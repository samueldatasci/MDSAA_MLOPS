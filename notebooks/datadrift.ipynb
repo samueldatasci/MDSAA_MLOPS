{
 "cells": [
  {
   "cell_type": "code",
   "execution_count": 13,
   "metadata": {},
   "outputs": [],
   "source": [
    "import nannyml as nml\n",
    "from IPython.display import display\n",
    "import pandas as pd\n",
    "\n"
   ]
  },
  {
   "cell_type": "code",
   "execution_count": 15,
   "metadata": {},
   "outputs": [
    {
     "name": "stdout",
     "output_type": "stream",
     "text": [
      "Index(['age', 'credit', 'balance_euros', 'housing_loan', 'personal_loan',\n",
      "       'last_contact_day', 'last_contact_month', 'last_contact_duration',\n",
      "       'campaign', 'pdays', 'previous', 'subscription', 'job_blue-collar',\n",
      "       'job_entrepreneur', 'job_housemaid', 'job_management', 'job_retired',\n",
      "       'job_self-employed', 'job_services', 'job_student', 'job_technician',\n",
      "       'job_unemployed', 'job_unknown', 'marital_status_married',\n",
      "       'marital_status_single', 'education_secondary', 'education_tertiary',\n",
      "       'education_unknown', 'contact_telephone', 'contact_unknown'],\n",
      "      dtype='object')\n",
      "Index(['age', 'credit', 'balance_euros', 'housing_loan', 'personal_loan',\n",
      "       'last_contact_day', 'last_contact_month', 'last_contact_duration',\n",
      "       'campaign', 'pdays', 'previous', 'subscription', 'job_blue-collar',\n",
      "       'job_entrepreneur', 'job_housemaid', 'job_management', 'job_retired',\n",
      "       'job_self-employed', 'job_services', 'job_student', 'job_technician',\n",
      "       'job_unemployed', 'job_unknown', 'marital_status_married',\n",
      "       'marital_status_single', 'education_secondary', 'education_tertiary',\n",
      "       'education_unknown', 'contact_telephone', 'contact_unknown'],\n",
      "      dtype='object')\n"
     ]
    }
   ],
   "source": [
    "reference_df = pd.read_csv(\"../data/04_feature/bank_marketing_engineered.csv\")\n",
    "analysis_df  = pd.read_csv(\"../data/04_feature/daily_bank_marketing_engineered.csv\")\n",
    "\n",
    "print(reference_df.columns)\n",
    "print(analysis_df.columns)\n",
    "\n",
    "\n"
   ]
  },
  {
   "cell_type": "code",
   "execution_count": 16,
   "metadata": {},
   "outputs": [],
   "source": [
    "column_names = [\"age\", \"balance_euros\", \"housing_loan\", \"subscription\"]\n",
    "calc = nml.UnivariateDriftCalculator(\n",
    "    column_names=column_names,\n",
    "    treat_as_categorical=[\"subscription\"],\n",
    "    continuous_methods=[\"kolmogorov_smirnov\", \"jensen_shannon\"],\n",
    "    categorical_methods=[\"chi2\", \"jensen_shannon\"],\n",
    ")\n",
    "\n"
   ]
  },
  {
   "cell_type": "code",
   "execution_count": 18,
   "metadata": {},
   "outputs": [
    {
     "data": {
      "text/plain": [
       "<nannyml.drift.univariate.result.Result at 0x1e0b05d6250>"
      ]
     },
     "metadata": {},
     "output_type": "display_data"
    },
    {
     "data": {
      "text/plain": [
       "<nannyml.drift.univariate.result.Result at 0x1e0b05d6250>"
      ]
     },
     "execution_count": 18,
     "metadata": {},
     "output_type": "execute_result"
    }
   ],
   "source": [
    "calc.fit(reference_df)\n",
    "results = calc.calculate(analysis_df)\n",
    "display(results)\n"
   ]
  },
  {
   "cell_type": "code",
   "execution_count": 24,
   "metadata": {},
   "outputs": [
    {
     "data": {
      "text/html": [
       "<div>\n",
       "<style scoped>\n",
       "    .dataframe tbody tr th:only-of-type {\n",
       "        vertical-align: middle;\n",
       "    }\n",
       "\n",
       "    .dataframe tbody tr th {\n",
       "        vertical-align: top;\n",
       "    }\n",
       "\n",
       "    .dataframe thead tr th {\n",
       "        text-align: left;\n",
       "    }\n",
       "</style>\n",
       "<table border=\"1\" class=\"dataframe\">\n",
       "  <thead>\n",
       "    <tr>\n",
       "      <th></th>\n",
       "      <th colspan=\"7\" halign=\"left\">chunk</th>\n",
       "      <th colspan=\"3\" halign=\"left\">age</th>\n",
       "      <th>...</th>\n",
       "      <th colspan=\"2\" halign=\"left\">housing_loan</th>\n",
       "      <th colspan=\"8\" halign=\"left\">subscription</th>\n",
       "    </tr>\n",
       "    <tr>\n",
       "      <th></th>\n",
       "      <th colspan=\"7\" halign=\"left\">chunk</th>\n",
       "      <th colspan=\"3\" halign=\"left\">kolmogorov_smirnov</th>\n",
       "      <th>...</th>\n",
       "      <th colspan=\"2\" halign=\"left\">jensen_shannon</th>\n",
       "      <th colspan=\"4\" halign=\"left\">jensen_shannon</th>\n",
       "      <th colspan=\"4\" halign=\"left\">chi2</th>\n",
       "    </tr>\n",
       "    <tr>\n",
       "      <th></th>\n",
       "      <th>key</th>\n",
       "      <th>chunk_index</th>\n",
       "      <th>start_index</th>\n",
       "      <th>end_index</th>\n",
       "      <th>start_date</th>\n",
       "      <th>end_date</th>\n",
       "      <th>period</th>\n",
       "      <th>value</th>\n",
       "      <th>upper_threshold</th>\n",
       "      <th>lower_threshold</th>\n",
       "      <th>...</th>\n",
       "      <th>lower_threshold</th>\n",
       "      <th>alert</th>\n",
       "      <th>value</th>\n",
       "      <th>upper_threshold</th>\n",
       "      <th>lower_threshold</th>\n",
       "      <th>alert</th>\n",
       "      <th>value</th>\n",
       "      <th>upper_threshold</th>\n",
       "      <th>lower_threshold</th>\n",
       "      <th>alert</th>\n",
       "    </tr>\n",
       "  </thead>\n",
       "  <tbody>\n",
       "    <tr>\n",
       "      <th>0</th>\n",
       "      <td>[0:4520]</td>\n",
       "      <td>0</td>\n",
       "      <td>0</td>\n",
       "      <td>4520</td>\n",
       "      <td>None</td>\n",
       "      <td>None</td>\n",
       "      <td>reference</td>\n",
       "      <td>0.100278</td>\n",
       "      <td>0.22355</td>\n",
       "      <td>None</td>\n",
       "      <td>...</td>\n",
       "      <td>None</td>\n",
       "      <td>True</td>\n",
       "      <td>0.123037</td>\n",
       "      <td>0.1</td>\n",
       "      <td>None</td>\n",
       "      <td>True</td>\n",
       "      <td>244.893655</td>\n",
       "      <td>1.0</td>\n",
       "      <td>0.0</td>\n",
       "      <td>True</td>\n",
       "    </tr>\n",
       "    <tr>\n",
       "      <th>1</th>\n",
       "      <td>[4521:9041]</td>\n",
       "      <td>1</td>\n",
       "      <td>4521</td>\n",
       "      <td>9041</td>\n",
       "      <td>None</td>\n",
       "      <td>None</td>\n",
       "      <td>reference</td>\n",
       "      <td>0.158519</td>\n",
       "      <td>0.22355</td>\n",
       "      <td>None</td>\n",
       "      <td>...</td>\n",
       "      <td>None</td>\n",
       "      <td>True</td>\n",
       "      <td>0.107584</td>\n",
       "      <td>0.1</td>\n",
       "      <td>None</td>\n",
       "      <td>True</td>\n",
       "      <td>196.667852</td>\n",
       "      <td>NaN</td>\n",
       "      <td>NaN</td>\n",
       "      <td>True</td>\n",
       "    </tr>\n",
       "    <tr>\n",
       "      <th>2</th>\n",
       "      <td>[9042:13562]</td>\n",
       "      <td>2</td>\n",
       "      <td>9042</td>\n",
       "      <td>13562</td>\n",
       "      <td>None</td>\n",
       "      <td>None</td>\n",
       "      <td>reference</td>\n",
       "      <td>0.033100</td>\n",
       "      <td>0.22355</td>\n",
       "      <td>None</td>\n",
       "      <td>...</td>\n",
       "      <td>None</td>\n",
       "      <td>False</td>\n",
       "      <td>0.080609</td>\n",
       "      <td>0.1</td>\n",
       "      <td>None</td>\n",
       "      <td>False</td>\n",
       "      <td>119.643779</td>\n",
       "      <td>NaN</td>\n",
       "      <td>NaN</td>\n",
       "      <td>True</td>\n",
       "    </tr>\n",
       "    <tr>\n",
       "      <th>3</th>\n",
       "      <td>[13563:18083]</td>\n",
       "      <td>3</td>\n",
       "      <td>13563</td>\n",
       "      <td>18083</td>\n",
       "      <td>None</td>\n",
       "      <td>None</td>\n",
       "      <td>reference</td>\n",
       "      <td>0.111765</td>\n",
       "      <td>0.22355</td>\n",
       "      <td>None</td>\n",
       "      <td>...</td>\n",
       "      <td>None</td>\n",
       "      <td>True</td>\n",
       "      <td>0.085616</td>\n",
       "      <td>0.1</td>\n",
       "      <td>None</td>\n",
       "      <td>False</td>\n",
       "      <td>133.040054</td>\n",
       "      <td>NaN</td>\n",
       "      <td>NaN</td>\n",
       "      <td>True</td>\n",
       "    </tr>\n",
       "    <tr>\n",
       "      <th>4</th>\n",
       "      <td>[18084:22604]</td>\n",
       "      <td>4</td>\n",
       "      <td>18084</td>\n",
       "      <td>22604</td>\n",
       "      <td>None</td>\n",
       "      <td>None</td>\n",
       "      <td>reference</td>\n",
       "      <td>0.112649</td>\n",
       "      <td>0.22355</td>\n",
       "      <td>None</td>\n",
       "      <td>...</td>\n",
       "      <td>None</td>\n",
       "      <td>False</td>\n",
       "      <td>0.079467</td>\n",
       "      <td>0.1</td>\n",
       "      <td>None</td>\n",
       "      <td>False</td>\n",
       "      <td>116.657046</td>\n",
       "      <td>NaN</td>\n",
       "      <td>NaN</td>\n",
       "      <td>True</td>\n",
       "    </tr>\n",
       "    <tr>\n",
       "      <th>5</th>\n",
       "      <td>[22605:27125]</td>\n",
       "      <td>5</td>\n",
       "      <td>22605</td>\n",
       "      <td>27125</td>\n",
       "      <td>None</td>\n",
       "      <td>None</td>\n",
       "      <td>reference</td>\n",
       "      <td>0.046832</td>\n",
       "      <td>0.22355</td>\n",
       "      <td>None</td>\n",
       "      <td>...</td>\n",
       "      <td>None</td>\n",
       "      <td>False</td>\n",
       "      <td>0.000325</td>\n",
       "      <td>0.1</td>\n",
       "      <td>None</td>\n",
       "      <td>False</td>\n",
       "      <td>0.000614</td>\n",
       "      <td>NaN</td>\n",
       "      <td>NaN</td>\n",
       "      <td>False</td>\n",
       "    </tr>\n",
       "    <tr>\n",
       "      <th>6</th>\n",
       "      <td>[27126:31646]</td>\n",
       "      <td>6</td>\n",
       "      <td>27126</td>\n",
       "      <td>31646</td>\n",
       "      <td>None</td>\n",
       "      <td>None</td>\n",
       "      <td>reference</td>\n",
       "      <td>0.095103</td>\n",
       "      <td>0.22355</td>\n",
       "      <td>None</td>\n",
       "      <td>...</td>\n",
       "      <td>None</td>\n",
       "      <td>True</td>\n",
       "      <td>0.001200</td>\n",
       "      <td>0.1</td>\n",
       "      <td>None</td>\n",
       "      <td>False</td>\n",
       "      <td>0.024679</td>\n",
       "      <td>NaN</td>\n",
       "      <td>NaN</td>\n",
       "      <td>False</td>\n",
       "    </tr>\n",
       "    <tr>\n",
       "      <th>7</th>\n",
       "      <td>[31647:36167]</td>\n",
       "      <td>7</td>\n",
       "      <td>31647</td>\n",
       "      <td>36167</td>\n",
       "      <td>None</td>\n",
       "      <td>None</td>\n",
       "      <td>reference</td>\n",
       "      <td>0.112218</td>\n",
       "      <td>0.22355</td>\n",
       "      <td>None</td>\n",
       "      <td>...</td>\n",
       "      <td>None</td>\n",
       "      <td>False</td>\n",
       "      <td>0.083034</td>\n",
       "      <td>0.1</td>\n",
       "      <td>None</td>\n",
       "      <td>False</td>\n",
       "      <td>185.184130</td>\n",
       "      <td>NaN</td>\n",
       "      <td>NaN</td>\n",
       "      <td>True</td>\n",
       "    </tr>\n",
       "    <tr>\n",
       "      <th>8</th>\n",
       "      <td>[36168:40688]</td>\n",
       "      <td>8</td>\n",
       "      <td>36168</td>\n",
       "      <td>40688</td>\n",
       "      <td>None</td>\n",
       "      <td>None</td>\n",
       "      <td>reference</td>\n",
       "      <td>0.156957</td>\n",
       "      <td>0.22355</td>\n",
       "      <td>None</td>\n",
       "      <td>...</td>\n",
       "      <td>None</td>\n",
       "      <td>True</td>\n",
       "      <td>0.314537</td>\n",
       "      <td>0.1</td>\n",
       "      <td>None</td>\n",
       "      <td>True</td>\n",
       "      <td>3454.829147</td>\n",
       "      <td>NaN</td>\n",
       "      <td>NaN</td>\n",
       "      <td>True</td>\n",
       "    </tr>\n",
       "    <tr>\n",
       "      <th>9</th>\n",
       "      <td>[40689:45210]</td>\n",
       "      <td>9</td>\n",
       "      <td>40689</td>\n",
       "      <td>45210</td>\n",
       "      <td>None</td>\n",
       "      <td>None</td>\n",
       "      <td>reference</td>\n",
       "      <td>0.040823</td>\n",
       "      <td>0.22355</td>\n",
       "      <td>None</td>\n",
       "      <td>...</td>\n",
       "      <td>None</td>\n",
       "      <td>True</td>\n",
       "      <td>0.143766</td>\n",
       "      <td>0.1</td>\n",
       "      <td>None</td>\n",
       "      <td>True</td>\n",
       "      <td>311.944607</td>\n",
       "      <td>NaN</td>\n",
       "      <td>NaN</td>\n",
       "      <td>True</td>\n",
       "    </tr>\n",
       "    <tr>\n",
       "      <th>10</th>\n",
       "      <td>[0:4520]</td>\n",
       "      <td>0</td>\n",
       "      <td>0</td>\n",
       "      <td>4520</td>\n",
       "      <td>None</td>\n",
       "      <td>None</td>\n",
       "      <td>reference</td>\n",
       "      <td>0.100278</td>\n",
       "      <td>0.22355</td>\n",
       "      <td>None</td>\n",
       "      <td>...</td>\n",
       "      <td>None</td>\n",
       "      <td>True</td>\n",
       "      <td>0.123037</td>\n",
       "      <td>0.1</td>\n",
       "      <td>None</td>\n",
       "      <td>True</td>\n",
       "      <td>244.893655</td>\n",
       "      <td>1.0</td>\n",
       "      <td>0.0</td>\n",
       "      <td>True</td>\n",
       "    </tr>\n",
       "    <tr>\n",
       "      <th>11</th>\n",
       "      <td>[4521:9041]</td>\n",
       "      <td>1</td>\n",
       "      <td>4521</td>\n",
       "      <td>9041</td>\n",
       "      <td>None</td>\n",
       "      <td>None</td>\n",
       "      <td>reference</td>\n",
       "      <td>0.158519</td>\n",
       "      <td>0.22355</td>\n",
       "      <td>None</td>\n",
       "      <td>...</td>\n",
       "      <td>None</td>\n",
       "      <td>True</td>\n",
       "      <td>0.107584</td>\n",
       "      <td>0.1</td>\n",
       "      <td>None</td>\n",
       "      <td>True</td>\n",
       "      <td>196.667852</td>\n",
       "      <td>NaN</td>\n",
       "      <td>NaN</td>\n",
       "      <td>True</td>\n",
       "    </tr>\n",
       "    <tr>\n",
       "      <th>12</th>\n",
       "      <td>[9042:13562]</td>\n",
       "      <td>2</td>\n",
       "      <td>9042</td>\n",
       "      <td>13562</td>\n",
       "      <td>None</td>\n",
       "      <td>None</td>\n",
       "      <td>reference</td>\n",
       "      <td>0.033100</td>\n",
       "      <td>0.22355</td>\n",
       "      <td>None</td>\n",
       "      <td>...</td>\n",
       "      <td>None</td>\n",
       "      <td>False</td>\n",
       "      <td>0.080609</td>\n",
       "      <td>0.1</td>\n",
       "      <td>None</td>\n",
       "      <td>False</td>\n",
       "      <td>119.643779</td>\n",
       "      <td>NaN</td>\n",
       "      <td>NaN</td>\n",
       "      <td>True</td>\n",
       "    </tr>\n",
       "    <tr>\n",
       "      <th>13</th>\n",
       "      <td>[13563:18083]</td>\n",
       "      <td>3</td>\n",
       "      <td>13563</td>\n",
       "      <td>18083</td>\n",
       "      <td>None</td>\n",
       "      <td>None</td>\n",
       "      <td>reference</td>\n",
       "      <td>0.111765</td>\n",
       "      <td>0.22355</td>\n",
       "      <td>None</td>\n",
       "      <td>...</td>\n",
       "      <td>None</td>\n",
       "      <td>True</td>\n",
       "      <td>0.085616</td>\n",
       "      <td>0.1</td>\n",
       "      <td>None</td>\n",
       "      <td>False</td>\n",
       "      <td>133.040054</td>\n",
       "      <td>NaN</td>\n",
       "      <td>NaN</td>\n",
       "      <td>True</td>\n",
       "    </tr>\n",
       "    <tr>\n",
       "      <th>14</th>\n",
       "      <td>[18084:22604]</td>\n",
       "      <td>4</td>\n",
       "      <td>18084</td>\n",
       "      <td>22604</td>\n",
       "      <td>None</td>\n",
       "      <td>None</td>\n",
       "      <td>reference</td>\n",
       "      <td>0.112649</td>\n",
       "      <td>0.22355</td>\n",
       "      <td>None</td>\n",
       "      <td>...</td>\n",
       "      <td>None</td>\n",
       "      <td>False</td>\n",
       "      <td>0.079467</td>\n",
       "      <td>0.1</td>\n",
       "      <td>None</td>\n",
       "      <td>False</td>\n",
       "      <td>116.657046</td>\n",
       "      <td>NaN</td>\n",
       "      <td>NaN</td>\n",
       "      <td>True</td>\n",
       "    </tr>\n",
       "    <tr>\n",
       "      <th>15</th>\n",
       "      <td>[22605:27125]</td>\n",
       "      <td>5</td>\n",
       "      <td>22605</td>\n",
       "      <td>27125</td>\n",
       "      <td>None</td>\n",
       "      <td>None</td>\n",
       "      <td>reference</td>\n",
       "      <td>0.046832</td>\n",
       "      <td>0.22355</td>\n",
       "      <td>None</td>\n",
       "      <td>...</td>\n",
       "      <td>None</td>\n",
       "      <td>False</td>\n",
       "      <td>0.000325</td>\n",
       "      <td>0.1</td>\n",
       "      <td>None</td>\n",
       "      <td>False</td>\n",
       "      <td>0.000614</td>\n",
       "      <td>NaN</td>\n",
       "      <td>NaN</td>\n",
       "      <td>False</td>\n",
       "    </tr>\n",
       "    <tr>\n",
       "      <th>16</th>\n",
       "      <td>[27126:31646]</td>\n",
       "      <td>6</td>\n",
       "      <td>27126</td>\n",
       "      <td>31646</td>\n",
       "      <td>None</td>\n",
       "      <td>None</td>\n",
       "      <td>reference</td>\n",
       "      <td>0.095103</td>\n",
       "      <td>0.22355</td>\n",
       "      <td>None</td>\n",
       "      <td>...</td>\n",
       "      <td>None</td>\n",
       "      <td>True</td>\n",
       "      <td>0.001200</td>\n",
       "      <td>0.1</td>\n",
       "      <td>None</td>\n",
       "      <td>False</td>\n",
       "      <td>0.024679</td>\n",
       "      <td>NaN</td>\n",
       "      <td>NaN</td>\n",
       "      <td>False</td>\n",
       "    </tr>\n",
       "    <tr>\n",
       "      <th>17</th>\n",
       "      <td>[31647:36167]</td>\n",
       "      <td>7</td>\n",
       "      <td>31647</td>\n",
       "      <td>36167</td>\n",
       "      <td>None</td>\n",
       "      <td>None</td>\n",
       "      <td>reference</td>\n",
       "      <td>0.112218</td>\n",
       "      <td>0.22355</td>\n",
       "      <td>None</td>\n",
       "      <td>...</td>\n",
       "      <td>None</td>\n",
       "      <td>False</td>\n",
       "      <td>0.083034</td>\n",
       "      <td>0.1</td>\n",
       "      <td>None</td>\n",
       "      <td>False</td>\n",
       "      <td>185.184130</td>\n",
       "      <td>NaN</td>\n",
       "      <td>NaN</td>\n",
       "      <td>True</td>\n",
       "    </tr>\n",
       "    <tr>\n",
       "      <th>18</th>\n",
       "      <td>[36168:40688]</td>\n",
       "      <td>8</td>\n",
       "      <td>36168</td>\n",
       "      <td>40688</td>\n",
       "      <td>None</td>\n",
       "      <td>None</td>\n",
       "      <td>reference</td>\n",
       "      <td>0.156957</td>\n",
       "      <td>0.22355</td>\n",
       "      <td>None</td>\n",
       "      <td>...</td>\n",
       "      <td>None</td>\n",
       "      <td>True</td>\n",
       "      <td>0.314537</td>\n",
       "      <td>0.1</td>\n",
       "      <td>None</td>\n",
       "      <td>True</td>\n",
       "      <td>3454.829147</td>\n",
       "      <td>NaN</td>\n",
       "      <td>NaN</td>\n",
       "      <td>True</td>\n",
       "    </tr>\n",
       "    <tr>\n",
       "      <th>19</th>\n",
       "      <td>[40689:45210]</td>\n",
       "      <td>9</td>\n",
       "      <td>40689</td>\n",
       "      <td>45210</td>\n",
       "      <td>None</td>\n",
       "      <td>None</td>\n",
       "      <td>reference</td>\n",
       "      <td>0.040823</td>\n",
       "      <td>0.22355</td>\n",
       "      <td>None</td>\n",
       "      <td>...</td>\n",
       "      <td>None</td>\n",
       "      <td>True</td>\n",
       "      <td>0.143766</td>\n",
       "      <td>0.1</td>\n",
       "      <td>None</td>\n",
       "      <td>True</td>\n",
       "      <td>311.944607</td>\n",
       "      <td>NaN</td>\n",
       "      <td>NaN</td>\n",
       "      <td>True</td>\n",
       "    </tr>\n",
       "    <tr>\n",
       "      <th>20</th>\n",
       "      <td>[0:2197]</td>\n",
       "      <td>0</td>\n",
       "      <td>0</td>\n",
       "      <td>2197</td>\n",
       "      <td>None</td>\n",
       "      <td>None</td>\n",
       "      <td>analysis</td>\n",
       "      <td>0.080613</td>\n",
       "      <td>0.22355</td>\n",
       "      <td>None</td>\n",
       "      <td>...</td>\n",
       "      <td>None</td>\n",
       "      <td>True</td>\n",
       "      <td>0.166096</td>\n",
       "      <td>0.1</td>\n",
       "      <td>None</td>\n",
       "      <td>True</td>\n",
       "      <td>188.994861</td>\n",
       "      <td>NaN</td>\n",
       "      <td>NaN</td>\n",
       "      <td>True</td>\n",
       "    </tr>\n",
       "    <tr>\n",
       "      <th>21</th>\n",
       "      <td>[2198:4395]</td>\n",
       "      <td>1</td>\n",
       "      <td>2198</td>\n",
       "      <td>4395</td>\n",
       "      <td>None</td>\n",
       "      <td>None</td>\n",
       "      <td>analysis</td>\n",
       "      <td>0.142756</td>\n",
       "      <td>0.22355</td>\n",
       "      <td>None</td>\n",
       "      <td>...</td>\n",
       "      <td>None</td>\n",
       "      <td>True</td>\n",
       "      <td>0.130681</td>\n",
       "      <td>0.1</td>\n",
       "      <td>None</td>\n",
       "      <td>True</td>\n",
       "      <td>133.211156</td>\n",
       "      <td>NaN</td>\n",
       "      <td>NaN</td>\n",
       "      <td>True</td>\n",
       "    </tr>\n",
       "    <tr>\n",
       "      <th>22</th>\n",
       "      <td>[4396:6593]</td>\n",
       "      <td>2</td>\n",
       "      <td>4396</td>\n",
       "      <td>6593</td>\n",
       "      <td>None</td>\n",
       "      <td>None</td>\n",
       "      <td>analysis</td>\n",
       "      <td>0.278669</td>\n",
       "      <td>0.22355</td>\n",
       "      <td>None</td>\n",
       "      <td>...</td>\n",
       "      <td>None</td>\n",
       "      <td>True</td>\n",
       "      <td>0.140706</td>\n",
       "      <td>0.1</td>\n",
       "      <td>None</td>\n",
       "      <td>True</td>\n",
       "      <td>149.056702</td>\n",
       "      <td>NaN</td>\n",
       "      <td>NaN</td>\n",
       "      <td>True</td>\n",
       "    </tr>\n",
       "    <tr>\n",
       "      <th>23</th>\n",
       "      <td>[6594:8791]</td>\n",
       "      <td>3</td>\n",
       "      <td>6594</td>\n",
       "      <td>8791</td>\n",
       "      <td>None</td>\n",
       "      <td>None</td>\n",
       "      <td>analysis</td>\n",
       "      <td>0.145235</td>\n",
       "      <td>0.22355</td>\n",
       "      <td>None</td>\n",
       "      <td>...</td>\n",
       "      <td>None</td>\n",
       "      <td>True</td>\n",
       "      <td>0.119276</td>\n",
       "      <td>0.1</td>\n",
       "      <td>None</td>\n",
       "      <td>True</td>\n",
       "      <td>115.402644</td>\n",
       "      <td>NaN</td>\n",
       "      <td>NaN</td>\n",
       "      <td>True</td>\n",
       "    </tr>\n",
       "    <tr>\n",
       "      <th>24</th>\n",
       "      <td>[8792:10989]</td>\n",
       "      <td>4</td>\n",
       "      <td>8792</td>\n",
       "      <td>10989</td>\n",
       "      <td>None</td>\n",
       "      <td>None</td>\n",
       "      <td>analysis</td>\n",
       "      <td>0.225605</td>\n",
       "      <td>0.22355</td>\n",
       "      <td>None</td>\n",
       "      <td>...</td>\n",
       "      <td>None</td>\n",
       "      <td>True</td>\n",
       "      <td>0.111108</td>\n",
       "      <td>0.1</td>\n",
       "      <td>None</td>\n",
       "      <td>True</td>\n",
       "      <td>102.905379</td>\n",
       "      <td>NaN</td>\n",
       "      <td>NaN</td>\n",
       "      <td>True</td>\n",
       "    </tr>\n",
       "    <tr>\n",
       "      <th>25</th>\n",
       "      <td>[10990:13187]</td>\n",
       "      <td>5</td>\n",
       "      <td>10990</td>\n",
       "      <td>13187</td>\n",
       "      <td>None</td>\n",
       "      <td>None</td>\n",
       "      <td>analysis</td>\n",
       "      <td>0.137379</td>\n",
       "      <td>0.22355</td>\n",
       "      <td>None</td>\n",
       "      <td>...</td>\n",
       "      <td>None</td>\n",
       "      <td>True</td>\n",
       "      <td>0.106697</td>\n",
       "      <td>0.1</td>\n",
       "      <td>None</td>\n",
       "      <td>True</td>\n",
       "      <td>96.279298</td>\n",
       "      <td>NaN</td>\n",
       "      <td>NaN</td>\n",
       "      <td>True</td>\n",
       "    </tr>\n",
       "    <tr>\n",
       "      <th>26</th>\n",
       "      <td>[13188:15385]</td>\n",
       "      <td>6</td>\n",
       "      <td>13188</td>\n",
       "      <td>15385</td>\n",
       "      <td>None</td>\n",
       "      <td>None</td>\n",
       "      <td>analysis</td>\n",
       "      <td>0.086545</td>\n",
       "      <td>0.22355</td>\n",
       "      <td>None</td>\n",
       "      <td>...</td>\n",
       "      <td>None</td>\n",
       "      <td>False</td>\n",
       "      <td>0.073306</td>\n",
       "      <td>0.1</td>\n",
       "      <td>None</td>\n",
       "      <td>False</td>\n",
       "      <td>50.406227</td>\n",
       "      <td>NaN</td>\n",
       "      <td>NaN</td>\n",
       "      <td>True</td>\n",
       "    </tr>\n",
       "    <tr>\n",
       "      <th>27</th>\n",
       "      <td>[15386:17583]</td>\n",
       "      <td>7</td>\n",
       "      <td>15386</td>\n",
       "      <td>17583</td>\n",
       "      <td>None</td>\n",
       "      <td>None</td>\n",
       "      <td>analysis</td>\n",
       "      <td>0.141595</td>\n",
       "      <td>0.22355</td>\n",
       "      <td>None</td>\n",
       "      <td>...</td>\n",
       "      <td>None</td>\n",
       "      <td>False</td>\n",
       "      <td>0.085008</td>\n",
       "      <td>0.1</td>\n",
       "      <td>None</td>\n",
       "      <td>False</td>\n",
       "      <td>65.448255</td>\n",
       "      <td>NaN</td>\n",
       "      <td>NaN</td>\n",
       "      <td>True</td>\n",
       "    </tr>\n",
       "    <tr>\n",
       "      <th>28</th>\n",
       "      <td>[17584:19781]</td>\n",
       "      <td>8</td>\n",
       "      <td>17584</td>\n",
       "      <td>19781</td>\n",
       "      <td>None</td>\n",
       "      <td>None</td>\n",
       "      <td>analysis</td>\n",
       "      <td>0.197108</td>\n",
       "      <td>0.22355</td>\n",
       "      <td>None</td>\n",
       "      <td>...</td>\n",
       "      <td>None</td>\n",
       "      <td>True</td>\n",
       "      <td>0.086610</td>\n",
       "      <td>0.1</td>\n",
       "      <td>None</td>\n",
       "      <td>False</td>\n",
       "      <td>67.605032</td>\n",
       "      <td>NaN</td>\n",
       "      <td>NaN</td>\n",
       "      <td>True</td>\n",
       "    </tr>\n",
       "    <tr>\n",
       "      <th>29</th>\n",
       "      <td>[19782:21982]</td>\n",
       "      <td>9</td>\n",
       "      <td>19782</td>\n",
       "      <td>21982</td>\n",
       "      <td>None</td>\n",
       "      <td>None</td>\n",
       "      <td>analysis</td>\n",
       "      <td>0.129319</td>\n",
       "      <td>0.22355</td>\n",
       "      <td>None</td>\n",
       "      <td>...</td>\n",
       "      <td>None</td>\n",
       "      <td>True</td>\n",
       "      <td>0.074989</td>\n",
       "      <td>0.1</td>\n",
       "      <td>None</td>\n",
       "      <td>False</td>\n",
       "      <td>52.556706</td>\n",
       "      <td>NaN</td>\n",
       "      <td>NaN</td>\n",
       "      <td>True</td>\n",
       "    </tr>\n",
       "  </tbody>\n",
       "</table>\n",
       "<p>30 rows × 39 columns</p>\n",
       "</div>"
      ],
      "text/plain": [
       "            chunk                                                        \\\n",
       "            chunk                                                         \n",
       "              key chunk_index start_index end_index start_date end_date   \n",
       "0        [0:4520]           0           0      4520       None     None   \n",
       "1     [4521:9041]           1        4521      9041       None     None   \n",
       "2    [9042:13562]           2        9042     13562       None     None   \n",
       "3   [13563:18083]           3       13563     18083       None     None   \n",
       "4   [18084:22604]           4       18084     22604       None     None   \n",
       "5   [22605:27125]           5       22605     27125       None     None   \n",
       "6   [27126:31646]           6       27126     31646       None     None   \n",
       "7   [31647:36167]           7       31647     36167       None     None   \n",
       "8   [36168:40688]           8       36168     40688       None     None   \n",
       "9   [40689:45210]           9       40689     45210       None     None   \n",
       "10       [0:4520]           0           0      4520       None     None   \n",
       "11    [4521:9041]           1        4521      9041       None     None   \n",
       "12   [9042:13562]           2        9042     13562       None     None   \n",
       "13  [13563:18083]           3       13563     18083       None     None   \n",
       "14  [18084:22604]           4       18084     22604       None     None   \n",
       "15  [22605:27125]           5       22605     27125       None     None   \n",
       "16  [27126:31646]           6       27126     31646       None     None   \n",
       "17  [31647:36167]           7       31647     36167       None     None   \n",
       "18  [36168:40688]           8       36168     40688       None     None   \n",
       "19  [40689:45210]           9       40689     45210       None     None   \n",
       "20       [0:2197]           0           0      2197       None     None   \n",
       "21    [2198:4395]           1        2198      4395       None     None   \n",
       "22    [4396:6593]           2        4396      6593       None     None   \n",
       "23    [6594:8791]           3        6594      8791       None     None   \n",
       "24   [8792:10989]           4        8792     10989       None     None   \n",
       "25  [10990:13187]           5       10990     13187       None     None   \n",
       "26  [13188:15385]           6       13188     15385       None     None   \n",
       "27  [15386:17583]           7       15386     17583       None     None   \n",
       "28  [17584:19781]           8       17584     19781       None     None   \n",
       "29  [19782:21982]           9       19782     21982       None     None   \n",
       "\n",
       "                             age                                  ...  \\\n",
       "              kolmogorov_smirnov                                  ...   \n",
       "       period              value upper_threshold lower_threshold  ...   \n",
       "0   reference           0.100278         0.22355            None  ...   \n",
       "1   reference           0.158519         0.22355            None  ...   \n",
       "2   reference           0.033100         0.22355            None  ...   \n",
       "3   reference           0.111765         0.22355            None  ...   \n",
       "4   reference           0.112649         0.22355            None  ...   \n",
       "5   reference           0.046832         0.22355            None  ...   \n",
       "6   reference           0.095103         0.22355            None  ...   \n",
       "7   reference           0.112218         0.22355            None  ...   \n",
       "8   reference           0.156957         0.22355            None  ...   \n",
       "9   reference           0.040823         0.22355            None  ...   \n",
       "10  reference           0.100278         0.22355            None  ...   \n",
       "11  reference           0.158519         0.22355            None  ...   \n",
       "12  reference           0.033100         0.22355            None  ...   \n",
       "13  reference           0.111765         0.22355            None  ...   \n",
       "14  reference           0.112649         0.22355            None  ...   \n",
       "15  reference           0.046832         0.22355            None  ...   \n",
       "16  reference           0.095103         0.22355            None  ...   \n",
       "17  reference           0.112218         0.22355            None  ...   \n",
       "18  reference           0.156957         0.22355            None  ...   \n",
       "19  reference           0.040823         0.22355            None  ...   \n",
       "20   analysis           0.080613         0.22355            None  ...   \n",
       "21   analysis           0.142756         0.22355            None  ...   \n",
       "22   analysis           0.278669         0.22355            None  ...   \n",
       "23   analysis           0.145235         0.22355            None  ...   \n",
       "24   analysis           0.225605         0.22355            None  ...   \n",
       "25   analysis           0.137379         0.22355            None  ...   \n",
       "26   analysis           0.086545         0.22355            None  ...   \n",
       "27   analysis           0.141595         0.22355            None  ...   \n",
       "28   analysis           0.197108         0.22355            None  ...   \n",
       "29   analysis           0.129319         0.22355            None  ...   \n",
       "\n",
       "      housing_loan          subscription                                  \\\n",
       "    jensen_shannon        jensen_shannon                                   \n",
       "   lower_threshold  alert          value upper_threshold lower_threshold   \n",
       "0             None   True       0.123037             0.1            None   \n",
       "1             None   True       0.107584             0.1            None   \n",
       "2             None  False       0.080609             0.1            None   \n",
       "3             None   True       0.085616             0.1            None   \n",
       "4             None  False       0.079467             0.1            None   \n",
       "5             None  False       0.000325             0.1            None   \n",
       "6             None   True       0.001200             0.1            None   \n",
       "7             None  False       0.083034             0.1            None   \n",
       "8             None   True       0.314537             0.1            None   \n",
       "9             None   True       0.143766             0.1            None   \n",
       "10            None   True       0.123037             0.1            None   \n",
       "11            None   True       0.107584             0.1            None   \n",
       "12            None  False       0.080609             0.1            None   \n",
       "13            None   True       0.085616             0.1            None   \n",
       "14            None  False       0.079467             0.1            None   \n",
       "15            None  False       0.000325             0.1            None   \n",
       "16            None   True       0.001200             0.1            None   \n",
       "17            None  False       0.083034             0.1            None   \n",
       "18            None   True       0.314537             0.1            None   \n",
       "19            None   True       0.143766             0.1            None   \n",
       "20            None   True       0.166096             0.1            None   \n",
       "21            None   True       0.130681             0.1            None   \n",
       "22            None   True       0.140706             0.1            None   \n",
       "23            None   True       0.119276             0.1            None   \n",
       "24            None   True       0.111108             0.1            None   \n",
       "25            None   True       0.106697             0.1            None   \n",
       "26            None  False       0.073306             0.1            None   \n",
       "27            None  False       0.085008             0.1            None   \n",
       "28            None   True       0.086610             0.1            None   \n",
       "29            None   True       0.074989             0.1            None   \n",
       "\n",
       "                                                               \n",
       "                  chi2                                         \n",
       "    alert        value upper_threshold lower_threshold  alert  \n",
       "0    True   244.893655             1.0             0.0   True  \n",
       "1    True   196.667852             NaN             NaN   True  \n",
       "2   False   119.643779             NaN             NaN   True  \n",
       "3   False   133.040054             NaN             NaN   True  \n",
       "4   False   116.657046             NaN             NaN   True  \n",
       "5   False     0.000614             NaN             NaN  False  \n",
       "6   False     0.024679             NaN             NaN  False  \n",
       "7   False   185.184130             NaN             NaN   True  \n",
       "8    True  3454.829147             NaN             NaN   True  \n",
       "9    True   311.944607             NaN             NaN   True  \n",
       "10   True   244.893655             1.0             0.0   True  \n",
       "11   True   196.667852             NaN             NaN   True  \n",
       "12  False   119.643779             NaN             NaN   True  \n",
       "13  False   133.040054             NaN             NaN   True  \n",
       "14  False   116.657046             NaN             NaN   True  \n",
       "15  False     0.000614             NaN             NaN  False  \n",
       "16  False     0.024679             NaN             NaN  False  \n",
       "17  False   185.184130             NaN             NaN   True  \n",
       "18   True  3454.829147             NaN             NaN   True  \n",
       "19   True   311.944607             NaN             NaN   True  \n",
       "20   True   188.994861             NaN             NaN   True  \n",
       "21   True   133.211156             NaN             NaN   True  \n",
       "22   True   149.056702             NaN             NaN   True  \n",
       "23   True   115.402644             NaN             NaN   True  \n",
       "24   True   102.905379             NaN             NaN   True  \n",
       "25   True    96.279298             NaN             NaN   True  \n",
       "26  False    50.406227             NaN             NaN   True  \n",
       "27  False    65.448255             NaN             NaN   True  \n",
       "28  False    67.605032             NaN             NaN   True  \n",
       "29  False    52.556706             NaN             NaN   True  \n",
       "\n",
       "[30 rows x 39 columns]"
      ]
     },
     "metadata": {},
     "output_type": "display_data"
    },
    {
     "data": {
      "application/vnd.plotly.v1+json": {
       "config": {
        "plotlyServerURL": "https://plot.ly"
       },
       "data": [
        {
         "hoverinfo": "skip",
         "legendgroup": "metric_reference",
         "line": {
          "color": "#00c8e5",
          "shape": "hv",
          "width": 2
         },
         "mode": "lines",
         "name": "Method",
         "showlegend": true,
         "type": "scatter",
         "x": [
          0,
          1,
          2,
          3,
          4,
          5,
          6,
          7,
          8,
          9,
          0,
          1,
          2,
          3,
          4,
          5,
          6,
          7,
          8,
          9,
          10
         ],
         "xaxis": "x",
         "y": [
          0.14060988550602993,
          0.2054330597326058,
          0.15109017000189523,
          0.23954584261154557,
          0.22827181917019548,
          0.07026644450242794,
          0.1006756158380129,
          0.1316320307918411,
          0.24674251301525613,
          0.11808016897513401,
          0.14060988550602993,
          0.2054330597326058,
          0.15109017000189523,
          0.23954584261154557,
          0.22827181917019548,
          0.07026644450242794,
          0.1006756158380129,
          0.1316320307918411,
          0.24674251301525613,
          0.11808016897513401,
          0.11808016897513401
         ],
         "yaxis": "y"
        },
        {
         "customdata": [
          [
           "Jensen-Shannon distance for <b>age</b>",
           "<b style=\"color:#00c8e5;line-height:60px\">Reference</b>",
           "<span style=\"color:#AD0000\">⚠ <b>Drift detected</b></span>",
           "[0:4520]",
           "Chunk index: <b>0</b>",
           0.1406
          ],
          [
           "Jensen-Shannon distance for <b>age</b>",
           "<b style=\"color:#00c8e5;line-height:60px\">Reference</b>",
           "<span style=\"color:#AD0000\">⚠ <b>Drift detected</b></span>",
           "[4521:9041]",
           "Chunk index: <b>1</b>",
           0.2054
          ],
          [
           "Jensen-Shannon distance for <b>age</b>",
           "<b style=\"color:#00c8e5;line-height:60px\">Reference</b>",
           "<span style=\"color:#AD0000\">⚠ <b>Drift detected</b></span>",
           "[9042:13562]",
           "Chunk index: <b>2</b>",
           0.1511
          ],
          [
           "Jensen-Shannon distance for <b>age</b>",
           "<b style=\"color:#00c8e5;line-height:60px\">Reference</b>",
           "<span style=\"color:#AD0000\">⚠ <b>Drift detected</b></span>",
           "[13563:18083]",
           "Chunk index: <b>3</b>",
           0.2395
          ],
          [
           "Jensen-Shannon distance for <b>age</b>",
           "<b style=\"color:#00c8e5;line-height:60px\">Reference</b>",
           "<span style=\"color:#AD0000\">⚠ <b>Drift detected</b></span>",
           "[18084:22604]",
           "Chunk index: <b>4</b>",
           0.2283
          ],
          [
           "Jensen-Shannon distance for <b>age</b>",
           "<b style=\"color:#00c8e5;line-height:60px\">Reference</b>",
           "",
           "[22605:27125]",
           "Chunk index: <b>5</b>",
           0.0703
          ],
          [
           "Jensen-Shannon distance for <b>age</b>",
           "<b style=\"color:#00c8e5;line-height:60px\">Reference</b>",
           "<span style=\"color:#AD0000\">⚠ <b>Drift detected</b></span>",
           "[27126:31646]",
           "Chunk index: <b>6</b>",
           0.1007
          ],
          [
           "Jensen-Shannon distance for <b>age</b>",
           "<b style=\"color:#00c8e5;line-height:60px\">Reference</b>",
           "<span style=\"color:#AD0000\">⚠ <b>Drift detected</b></span>",
           "[31647:36167]",
           "Chunk index: <b>7</b>",
           0.1316
          ],
          [
           "Jensen-Shannon distance for <b>age</b>",
           "<b style=\"color:#00c8e5;line-height:60px\">Reference</b>",
           "<span style=\"color:#AD0000\">⚠ <b>Drift detected</b></span>",
           "[36168:40688]",
           "Chunk index: <b>8</b>",
           0.2467
          ],
          [
           "Jensen-Shannon distance for <b>age</b>",
           "<b style=\"color:#00c8e5;line-height:60px\">Reference</b>",
           "<span style=\"color:#AD0000\">⚠ <b>Drift detected</b></span>",
           "[40689:45210]",
           "Chunk index: <b>9</b>",
           0.1181
          ],
          [
           "Jensen-Shannon distance for <b>age</b>",
           "<b style=\"color:#00c8e5;line-height:60px\">Reference</b>",
           "<span style=\"color:#AD0000\">⚠ <b>Drift detected</b></span>",
           "[0:4520]",
           "Chunk index: <b>0</b>",
           0.1406
          ],
          [
           "Jensen-Shannon distance for <b>age</b>",
           "<b style=\"color:#00c8e5;line-height:60px\">Reference</b>",
           "<span style=\"color:#AD0000\">⚠ <b>Drift detected</b></span>",
           "[4521:9041]",
           "Chunk index: <b>1</b>",
           0.2054
          ],
          [
           "Jensen-Shannon distance for <b>age</b>",
           "<b style=\"color:#00c8e5;line-height:60px\">Reference</b>",
           "<span style=\"color:#AD0000\">⚠ <b>Drift detected</b></span>",
           "[9042:13562]",
           "Chunk index: <b>2</b>",
           0.1511
          ],
          [
           "Jensen-Shannon distance for <b>age</b>",
           "<b style=\"color:#00c8e5;line-height:60px\">Reference</b>",
           "<span style=\"color:#AD0000\">⚠ <b>Drift detected</b></span>",
           "[13563:18083]",
           "Chunk index: <b>3</b>",
           0.2395
          ],
          [
           "Jensen-Shannon distance for <b>age</b>",
           "<b style=\"color:#00c8e5;line-height:60px\">Reference</b>",
           "<span style=\"color:#AD0000\">⚠ <b>Drift detected</b></span>",
           "[18084:22604]",
           "Chunk index: <b>4</b>",
           0.2283
          ],
          [
           "Jensen-Shannon distance for <b>age</b>",
           "<b style=\"color:#00c8e5;line-height:60px\">Reference</b>",
           "",
           "[22605:27125]",
           "Chunk index: <b>5</b>",
           0.0703
          ],
          [
           "Jensen-Shannon distance for <b>age</b>",
           "<b style=\"color:#00c8e5;line-height:60px\">Reference</b>",
           "<span style=\"color:#AD0000\">⚠ <b>Drift detected</b></span>",
           "[27126:31646]",
           "Chunk index: <b>6</b>",
           0.1007
          ],
          [
           "Jensen-Shannon distance for <b>age</b>",
           "<b style=\"color:#00c8e5;line-height:60px\">Reference</b>",
           "<span style=\"color:#AD0000\">⚠ <b>Drift detected</b></span>",
           "[31647:36167]",
           "Chunk index: <b>7</b>",
           0.1316
          ],
          [
           "Jensen-Shannon distance for <b>age</b>",
           "<b style=\"color:#00c8e5;line-height:60px\">Reference</b>",
           "<span style=\"color:#AD0000\">⚠ <b>Drift detected</b></span>",
           "[36168:40688]",
           "Chunk index: <b>8</b>",
           0.2467
          ],
          [
           "Jensen-Shannon distance for <b>age</b>",
           "<b style=\"color:#00c8e5;line-height:60px\">Reference</b>",
           "<span style=\"color:#AD0000\">⚠ <b>Drift detected</b></span>",
           "[40689:45210]",
           "Chunk index: <b>9</b>",
           0.1181
          ]
         ],
         "hovertemplate": "%{customdata[1]} &nbsp; &nbsp; %{customdata[2]} <br />Chunk: <b>%{customdata[3]}</b> &nbsp; &nbsp; %{customdata[4]} <br />%{customdata[0]}: <b>%{customdata[5]}</b><b r /><extra></extra>",
         "legendgroup": "metric_reference",
         "marker": {
          "color": "#00c8e5",
          "size": 5,
          "symbol": "circle"
         },
         "mode": "markers",
         "name": "Method",
         "showlegend": false,
         "type": "scatter",
         "x": [
          0.5,
          1.5,
          2.5,
          3.5,
          4.5,
          5.5,
          6.5,
          7.5,
          8.5,
          4.5,
          0.5,
          1.5,
          2.5,
          3.5,
          4.5,
          5.5,
          6.5,
          7.5,
          8.5,
          9.5
         ],
         "xaxis": "x",
         "y": [
          0.14060988550602993,
          0.2054330597326058,
          0.15109017000189523,
          0.23954584261154557,
          0.22827181917019548,
          0.07026644450242794,
          0.1006756158380129,
          0.1316320307918411,
          0.24674251301525613,
          0.11808016897513401,
          0.14060988550602993,
          0.2054330597326058,
          0.15109017000189523,
          0.23954584261154557,
          0.22827181917019548,
          0.07026644450242794,
          0.1006756158380129,
          0.1316320307918411,
          0.24674251301525613,
          0.11808016897513401,
          0.11808016897513401
         ],
         "yaxis": "y"
        },
        {
         "hoverinfo": "skip",
         "legendgroup": "metric_analysis",
         "line": {
          "color": "#00c8e5",
          "shape": "hv",
          "width": 2
         },
         "mode": "lines",
         "name": "Method",
         "showlegend": false,
         "type": "scatter",
         "x": [
          10,
          11,
          12,
          13,
          14,
          15,
          16,
          17,
          18,
          19,
          20
         ],
         "xaxis": "x",
         "y": [
          0.13901382470213425,
          0.23714440748906007,
          0.2549855071910306,
          0.17721131001546317,
          0.24778850131887817,
          0.20959029931218814,
          0.16075285842852352,
          0.19514065253684051,
          0.22415770539028013,
          0.28499601672900865,
          0.28499601672900865
         ],
         "yaxis": "y"
        },
        {
         "customdata": [
          [
           "Jensen-Shannon distance for <b>age</b>",
           "<b style=\"color:#00c8e5;line-height:60px\">Analysis</b>",
           "<span style=\"color:#AD0000\">⚠ <b>Drift detected</b></span>",
           "[0:2197]",
           "Chunk index: <b>0</b>",
           0.139
          ],
          [
           "Jensen-Shannon distance for <b>age</b>",
           "<b style=\"color:#00c8e5;line-height:60px\">Analysis</b>",
           "<span style=\"color:#AD0000\">⚠ <b>Drift detected</b></span>",
           "[2198:4395]",
           "Chunk index: <b>1</b>",
           0.2371
          ],
          [
           "Jensen-Shannon distance for <b>age</b>",
           "<b style=\"color:#00c8e5;line-height:60px\">Analysis</b>",
           "<span style=\"color:#AD0000\">⚠ <b>Drift detected</b></span>",
           "[4396:6593]",
           "Chunk index: <b>2</b>",
           0.255
          ],
          [
           "Jensen-Shannon distance for <b>age</b>",
           "<b style=\"color:#00c8e5;line-height:60px\">Analysis</b>",
           "<span style=\"color:#AD0000\">⚠ <b>Drift detected</b></span>",
           "[6594:8791]",
           "Chunk index: <b>3</b>",
           0.1772
          ],
          [
           "Jensen-Shannon distance for <b>age</b>",
           "<b style=\"color:#00c8e5;line-height:60px\">Analysis</b>",
           "<span style=\"color:#AD0000\">⚠ <b>Drift detected</b></span>",
           "[8792:10989]",
           "Chunk index: <b>4</b>",
           0.2478
          ],
          [
           "Jensen-Shannon distance for <b>age</b>",
           "<b style=\"color:#00c8e5;line-height:60px\">Analysis</b>",
           "<span style=\"color:#AD0000\">⚠ <b>Drift detected</b></span>",
           "[10990:13187]",
           "Chunk index: <b>5</b>",
           0.2096
          ],
          [
           "Jensen-Shannon distance for <b>age</b>",
           "<b style=\"color:#00c8e5;line-height:60px\">Analysis</b>",
           "<span style=\"color:#AD0000\">⚠ <b>Drift detected</b></span>",
           "[13188:15385]",
           "Chunk index: <b>6</b>",
           0.1608
          ],
          [
           "Jensen-Shannon distance for <b>age</b>",
           "<b style=\"color:#00c8e5;line-height:60px\">Analysis</b>",
           "<span style=\"color:#AD0000\">⚠ <b>Drift detected</b></span>",
           "[15386:17583]",
           "Chunk index: <b>7</b>",
           0.1951
          ],
          [
           "Jensen-Shannon distance for <b>age</b>",
           "<b style=\"color:#00c8e5;line-height:60px\">Analysis</b>",
           "<span style=\"color:#AD0000\">⚠ <b>Drift detected</b></span>",
           "[17584:19781]",
           "Chunk index: <b>8</b>",
           0.2242
          ],
          [
           "Jensen-Shannon distance for <b>age</b>",
           "<b style=\"color:#00c8e5;line-height:60px\">Analysis</b>",
           "<span style=\"color:#AD0000\">⚠ <b>Drift detected</b></span>",
           "[19782:21982]",
           "Chunk index: <b>9</b>",
           0.285
          ]
         ],
         "hovertemplate": "%{customdata[1]} &nbsp; &nbsp; %{customdata[2]} <br />Chunk: <b>%{customdata[3]}</b> &nbsp; &nbsp; %{customdata[4]} <br />%{customdata[0]}: <b>%{customdata[5]}</b><b r /><extra></extra>",
         "legendgroup": "metric_analysis",
         "marker": {
          "color": "#00c8e5",
          "size": 5,
          "symbol": "circle"
         },
         "mode": "markers",
         "name": "Method",
         "showlegend": false,
         "type": "scatter",
         "x": [
          10.5,
          11.5,
          12.5,
          13.5,
          14.5,
          15.5,
          16.5,
          17.5,
          18.5,
          19.5
         ],
         "xaxis": "x",
         "y": [
          0.13901382470213425,
          0.23714440748906007,
          0.2549855071910306,
          0.17721131001546317,
          0.24778850131887817,
          0.20959029931218814,
          0.16075285842852352,
          0.19514065253684051,
          0.22415770539028013,
          0.28499601672900865,
          0.28499601672900865
         ],
         "yaxis": "y"
        },
        {
         "hoverinfo": "skip",
         "legendgroup": "alert",
         "marker": {
          "color": "#DD4040",
          "size": 8,
          "symbol": "diamond"
         },
         "mode": "markers",
         "name": "Alert",
         "showlegend": true,
         "type": "scatter",
         "x": [
          10.5,
          11.5,
          12.5,
          13.5,
          14.5,
          15.5,
          16.5,
          17.5,
          18.5,
          19.5
         ],
         "xaxis": "x",
         "y": [
          0.13901382470213425,
          0.23714440748906007,
          0.2549855071910306,
          0.17721131001546317,
          0.24778850131887817,
          0.20959029931218814,
          0.16075285842852352,
          0.19514065253684051,
          0.22415770539028013,
          0.28499601672900865
         ],
         "yaxis": "y"
        },
        {
         "hoverinfo": "skip",
         "legendgroup": "thresh",
         "line": {
          "color": "#DD4040",
          "dash": "dash",
          "width": 2
         },
         "mode": "lines",
         "name": "Threshold",
         "showlegend": true,
         "type": "scatter",
         "x": [
          0,
          1,
          2,
          3,
          4,
          5,
          6,
          7,
          8,
          9,
          0,
          1,
          2,
          3,
          4,
          5,
          6,
          7,
          8,
          9,
          10
         ],
         "xaxis": "x",
         "y": [
          0.1,
          0.1,
          0.1,
          0.1,
          0.1,
          0.1,
          0.1,
          0.1,
          0.1,
          0.1,
          0.1,
          0.1,
          0.1,
          0.1,
          0.1,
          0.1,
          0.1,
          0.1,
          0.1,
          0.1,
          0.1
         ],
         "yaxis": "y"
        },
        {
         "hoverinfo": "skip",
         "legendgroup": "thresh",
         "line": {
          "color": "#DD4040",
          "dash": "dash",
          "width": 2
         },
         "mode": "lines",
         "name": "Threshold",
         "showlegend": false,
         "type": "scatter",
         "x": [
          10,
          11,
          12,
          13,
          14,
          15,
          16,
          17,
          18,
          19,
          20
         ],
         "xaxis": "x",
         "y": [
          0.1,
          0.1,
          0.1,
          0.1,
          0.1,
          0.1,
          0.1,
          0.1,
          0.1,
          0.1,
          0.1
         ],
         "yaxis": "y"
        },
        {
         "hoverinfo": "skip",
         "legendgroup": "metric_reference",
         "line": {
          "color": "#00c8e5",
          "shape": "hv",
          "width": 2
         },
         "mode": "lines",
         "name": "Method",
         "showlegend": false,
         "type": "scatter",
         "x": [
          0,
          1,
          2,
          3,
          4,
          5,
          6,
          7,
          8,
          9,
          0,
          1,
          2,
          3,
          4,
          5,
          6,
          7,
          8,
          9,
          10
         ],
         "xaxis": "x2",
         "y": [
          0.10027752053165084,
          0.15851860301559012,
          0.03310005080212475,
          0.11176472835858423,
          0.11264948836743181,
          0.04683232418666611,
          0.0951034817300489,
          0.1122179596917755,
          0.15695729837256345,
          0.04082329245706651,
          0.10027752053165084,
          0.15851860301559012,
          0.03310005080212475,
          0.11176472835858423,
          0.11264948836743181,
          0.04683232418666611,
          0.0951034817300489,
          0.1122179596917755,
          0.15695729837256345,
          0.04082329245706651,
          0.04082329245706651
         ],
         "yaxis": "y2"
        },
        {
         "customdata": [
          [
           "Kolmogorov-Smirnov statistic for <b>age</b>",
           "<b style=\"color:#00c8e5;line-height:60px\">Reference</b>",
           "",
           "[0:4520]",
           "Chunk index: <b>0</b>",
           0.1003
          ],
          [
           "Kolmogorov-Smirnov statistic for <b>age</b>",
           "<b style=\"color:#00c8e5;line-height:60px\">Reference</b>",
           "",
           "[4521:9041]",
           "Chunk index: <b>1</b>",
           0.1585
          ],
          [
           "Kolmogorov-Smirnov statistic for <b>age</b>",
           "<b style=\"color:#00c8e5;line-height:60px\">Reference</b>",
           "",
           "[9042:13562]",
           "Chunk index: <b>2</b>",
           0.0331
          ],
          [
           "Kolmogorov-Smirnov statistic for <b>age</b>",
           "<b style=\"color:#00c8e5;line-height:60px\">Reference</b>",
           "",
           "[13563:18083]",
           "Chunk index: <b>3</b>",
           0.1118
          ],
          [
           "Kolmogorov-Smirnov statistic for <b>age</b>",
           "<b style=\"color:#00c8e5;line-height:60px\">Reference</b>",
           "",
           "[18084:22604]",
           "Chunk index: <b>4</b>",
           0.1126
          ],
          [
           "Kolmogorov-Smirnov statistic for <b>age</b>",
           "<b style=\"color:#00c8e5;line-height:60px\">Reference</b>",
           "",
           "[22605:27125]",
           "Chunk index: <b>5</b>",
           0.0468
          ],
          [
           "Kolmogorov-Smirnov statistic for <b>age</b>",
           "<b style=\"color:#00c8e5;line-height:60px\">Reference</b>",
           "",
           "[27126:31646]",
           "Chunk index: <b>6</b>",
           0.0951
          ],
          [
           "Kolmogorov-Smirnov statistic for <b>age</b>",
           "<b style=\"color:#00c8e5;line-height:60px\">Reference</b>",
           "",
           "[31647:36167]",
           "Chunk index: <b>7</b>",
           0.1122
          ],
          [
           "Kolmogorov-Smirnov statistic for <b>age</b>",
           "<b style=\"color:#00c8e5;line-height:60px\">Reference</b>",
           "",
           "[36168:40688]",
           "Chunk index: <b>8</b>",
           0.157
          ],
          [
           "Kolmogorov-Smirnov statistic for <b>age</b>",
           "<b style=\"color:#00c8e5;line-height:60px\">Reference</b>",
           "",
           "[40689:45210]",
           "Chunk index: <b>9</b>",
           0.0408
          ],
          [
           "Kolmogorov-Smirnov statistic for <b>age</b>",
           "<b style=\"color:#00c8e5;line-height:60px\">Reference</b>",
           "",
           "[0:4520]",
           "Chunk index: <b>0</b>",
           0.1003
          ],
          [
           "Kolmogorov-Smirnov statistic for <b>age</b>",
           "<b style=\"color:#00c8e5;line-height:60px\">Reference</b>",
           "",
           "[4521:9041]",
           "Chunk index: <b>1</b>",
           0.1585
          ],
          [
           "Kolmogorov-Smirnov statistic for <b>age</b>",
           "<b style=\"color:#00c8e5;line-height:60px\">Reference</b>",
           "",
           "[9042:13562]",
           "Chunk index: <b>2</b>",
           0.0331
          ],
          [
           "Kolmogorov-Smirnov statistic for <b>age</b>",
           "<b style=\"color:#00c8e5;line-height:60px\">Reference</b>",
           "",
           "[13563:18083]",
           "Chunk index: <b>3</b>",
           0.1118
          ],
          [
           "Kolmogorov-Smirnov statistic for <b>age</b>",
           "<b style=\"color:#00c8e5;line-height:60px\">Reference</b>",
           "",
           "[18084:22604]",
           "Chunk index: <b>4</b>",
           0.1126
          ],
          [
           "Kolmogorov-Smirnov statistic for <b>age</b>",
           "<b style=\"color:#00c8e5;line-height:60px\">Reference</b>",
           "",
           "[22605:27125]",
           "Chunk index: <b>5</b>",
           0.0468
          ],
          [
           "Kolmogorov-Smirnov statistic for <b>age</b>",
           "<b style=\"color:#00c8e5;line-height:60px\">Reference</b>",
           "",
           "[27126:31646]",
           "Chunk index: <b>6</b>",
           0.0951
          ],
          [
           "Kolmogorov-Smirnov statistic for <b>age</b>",
           "<b style=\"color:#00c8e5;line-height:60px\">Reference</b>",
           "",
           "[31647:36167]",
           "Chunk index: <b>7</b>",
           0.1122
          ],
          [
           "Kolmogorov-Smirnov statistic for <b>age</b>",
           "<b style=\"color:#00c8e5;line-height:60px\">Reference</b>",
           "",
           "[36168:40688]",
           "Chunk index: <b>8</b>",
           0.157
          ],
          [
           "Kolmogorov-Smirnov statistic for <b>age</b>",
           "<b style=\"color:#00c8e5;line-height:60px\">Reference</b>",
           "",
           "[40689:45210]",
           "Chunk index: <b>9</b>",
           0.0408
          ]
         ],
         "hovertemplate": "%{customdata[1]} &nbsp; &nbsp; %{customdata[2]} <br />Chunk: <b>%{customdata[3]}</b> &nbsp; &nbsp; %{customdata[4]} <br />%{customdata[0]}: <b>%{customdata[5]}</b><b r /><extra></extra>",
         "legendgroup": "metric_reference",
         "marker": {
          "color": "#00c8e5",
          "size": 5,
          "symbol": "circle"
         },
         "mode": "markers",
         "name": "Method",
         "showlegend": false,
         "type": "scatter",
         "x": [
          0.5,
          1.5,
          2.5,
          3.5,
          4.5,
          5.5,
          6.5,
          7.5,
          8.5,
          4.5,
          0.5,
          1.5,
          2.5,
          3.5,
          4.5,
          5.5,
          6.5,
          7.5,
          8.5,
          9.5
         ],
         "xaxis": "x2",
         "y": [
          0.10027752053165084,
          0.15851860301559012,
          0.03310005080212475,
          0.11176472835858423,
          0.11264948836743181,
          0.04683232418666611,
          0.0951034817300489,
          0.1122179596917755,
          0.15695729837256345,
          0.04082329245706651,
          0.10027752053165084,
          0.15851860301559012,
          0.03310005080212475,
          0.11176472835858423,
          0.11264948836743181,
          0.04683232418666611,
          0.0951034817300489,
          0.1122179596917755,
          0.15695729837256345,
          0.04082329245706651,
          0.04082329245706651
         ],
         "yaxis": "y2"
        },
        {
         "hoverinfo": "skip",
         "legendgroup": "metric_analysis",
         "line": {
          "color": "#00c8e5",
          "shape": "hv",
          "width": 2
         },
         "mode": "lines",
         "name": "Method",
         "showlegend": false,
         "type": "scatter",
         "x": [
          10,
          11,
          12,
          13,
          14,
          15,
          16,
          17,
          18,
          19,
          20
         ],
         "xaxis": "x2",
         "y": [
          0.08061309694796953,
          0.14275631142855405,
          0.27866894624857685,
          0.14523480228355612,
          0.2256047868080451,
          0.1373789572536932,
          0.08654508435816943,
          0.1415951298540748,
          0.19710783261153653,
          0.12931862293909047,
          0.12931862293909047
         ],
         "yaxis": "y2"
        },
        {
         "customdata": [
          [
           "Kolmogorov-Smirnov statistic for <b>age</b>",
           "<b style=\"color:#00c8e5;line-height:60px\">Analysis</b>",
           "",
           "[0:2197]",
           "Chunk index: <b>0</b>",
           0.0806
          ],
          [
           "Kolmogorov-Smirnov statistic for <b>age</b>",
           "<b style=\"color:#00c8e5;line-height:60px\">Analysis</b>",
           "",
           "[2198:4395]",
           "Chunk index: <b>1</b>",
           0.1428
          ],
          [
           "Kolmogorov-Smirnov statistic for <b>age</b>",
           "<b style=\"color:#00c8e5;line-height:60px\">Analysis</b>",
           "<span style=\"color:#AD0000\">⚠ <b>Drift detected</b></span>",
           "[4396:6593]",
           "Chunk index: <b>2</b>",
           0.2787
          ],
          [
           "Kolmogorov-Smirnov statistic for <b>age</b>",
           "<b style=\"color:#00c8e5;line-height:60px\">Analysis</b>",
           "",
           "[6594:8791]",
           "Chunk index: <b>3</b>",
           0.1452
          ],
          [
           "Kolmogorov-Smirnov statistic for <b>age</b>",
           "<b style=\"color:#00c8e5;line-height:60px\">Analysis</b>",
           "<span style=\"color:#AD0000\">⚠ <b>Drift detected</b></span>",
           "[8792:10989]",
           "Chunk index: <b>4</b>",
           0.2256
          ],
          [
           "Kolmogorov-Smirnov statistic for <b>age</b>",
           "<b style=\"color:#00c8e5;line-height:60px\">Analysis</b>",
           "",
           "[10990:13187]",
           "Chunk index: <b>5</b>",
           0.1374
          ],
          [
           "Kolmogorov-Smirnov statistic for <b>age</b>",
           "<b style=\"color:#00c8e5;line-height:60px\">Analysis</b>",
           "",
           "[13188:15385]",
           "Chunk index: <b>6</b>",
           0.0865
          ],
          [
           "Kolmogorov-Smirnov statistic for <b>age</b>",
           "<b style=\"color:#00c8e5;line-height:60px\">Analysis</b>",
           "",
           "[15386:17583]",
           "Chunk index: <b>7</b>",
           0.1416
          ],
          [
           "Kolmogorov-Smirnov statistic for <b>age</b>",
           "<b style=\"color:#00c8e5;line-height:60px\">Analysis</b>",
           "",
           "[17584:19781]",
           "Chunk index: <b>8</b>",
           0.1971
          ],
          [
           "Kolmogorov-Smirnov statistic for <b>age</b>",
           "<b style=\"color:#00c8e5;line-height:60px\">Analysis</b>",
           "",
           "[19782:21982]",
           "Chunk index: <b>9</b>",
           0.1293
          ]
         ],
         "hovertemplate": "%{customdata[1]} &nbsp; &nbsp; %{customdata[2]} <br />Chunk: <b>%{customdata[3]}</b> &nbsp; &nbsp; %{customdata[4]} <br />%{customdata[0]}: <b>%{customdata[5]}</b><b r /><extra></extra>",
         "legendgroup": "metric_analysis",
         "marker": {
          "color": "#00c8e5",
          "size": 5,
          "symbol": "circle"
         },
         "mode": "markers",
         "name": "Method",
         "showlegend": false,
         "type": "scatter",
         "x": [
          10.5,
          11.5,
          12.5,
          13.5,
          14.5,
          15.5,
          16.5,
          17.5,
          18.5,
          19.5
         ],
         "xaxis": "x2",
         "y": [
          0.08061309694796953,
          0.14275631142855405,
          0.27866894624857685,
          0.14523480228355612,
          0.2256047868080451,
          0.1373789572536932,
          0.08654508435816943,
          0.1415951298540748,
          0.19710783261153653,
          0.12931862293909047,
          0.12931862293909047
         ],
         "yaxis": "y2"
        },
        {
         "hoverinfo": "skip",
         "legendgroup": "alert",
         "marker": {
          "color": "#DD4040",
          "size": 8,
          "symbol": "diamond"
         },
         "mode": "markers",
         "name": "Alert",
         "showlegend": false,
         "type": "scatter",
         "x": [
          12.5,
          14.5
         ],
         "xaxis": "x2",
         "y": [
          0.27866894624857685,
          0.2256047868080451
         ],
         "yaxis": "y2"
        },
        {
         "hoverinfo": "skip",
         "legendgroup": "thresh",
         "line": {
          "color": "#DD4040",
          "dash": "dash",
          "width": 2
         },
         "mode": "lines",
         "name": "Threshold",
         "showlegend": false,
         "type": "scatter",
         "x": [
          0,
          1,
          2,
          3,
          4,
          5,
          6,
          7,
          8,
          9,
          0,
          1,
          2,
          3,
          4,
          5,
          6,
          7,
          8,
          9,
          10
         ],
         "xaxis": "x2",
         "y": [
          0.22355009478863502,
          0.22355009478863502,
          0.22355009478863502,
          0.22355009478863502,
          0.22355009478863502,
          0.22355009478863502,
          0.22355009478863502,
          0.22355009478863502,
          0.22355009478863502,
          0.22355009478863502,
          0.22355009478863502,
          0.22355009478863502,
          0.22355009478863502,
          0.22355009478863502,
          0.22355009478863502,
          0.22355009478863502,
          0.22355009478863502,
          0.22355009478863502,
          0.22355009478863502,
          0.22355009478863502,
          0.22355009478863502
         ],
         "yaxis": "y2"
        },
        {
         "hoverinfo": "skip",
         "legendgroup": "thresh",
         "line": {
          "color": "#DD4040",
          "dash": "dash",
          "width": 2
         },
         "mode": "lines",
         "name": "Threshold",
         "showlegend": false,
         "type": "scatter",
         "x": [
          10,
          11,
          12,
          13,
          14,
          15,
          16,
          17,
          18,
          19,
          20
         ],
         "xaxis": "x2",
         "y": [
          0.22355009478863502,
          0.22355009478863502,
          0.22355009478863502,
          0.22355009478863502,
          0.22355009478863502,
          0.22355009478863502,
          0.22355009478863502,
          0.22355009478863502,
          0.22355009478863502,
          0.22355009478863502,
          0.22355009478863502
         ],
         "yaxis": "y2"
        },
        {
         "hoverinfo": "skip",
         "legendgroup": "metric_reference",
         "line": {
          "color": "#00c8e5",
          "shape": "hv",
          "width": 2
         },
         "mode": "lines",
         "name": "Method",
         "showlegend": false,
         "type": "scatter",
         "x": [
          0,
          1,
          2,
          3,
          4,
          5,
          6,
          7,
          8,
          9,
          0,
          1,
          2,
          3,
          4,
          5,
          6,
          7,
          8,
          9,
          10
         ],
         "xaxis": "x3",
         "y": [
          0.033345593706544704,
          0.02855792146729294,
          0.1110161028127979,
          0.032793186314535296,
          0.11236007206275232,
          0.04853043053540661,
          0.03591677493306701,
          0.031621669801704916,
          0.09719511319128185,
          0.08093639169769239,
          0.033345593706544704,
          0.02855792146729294,
          0.1110161028127979,
          0.032793186314535296,
          0.11236007206275232,
          0.04853043053540661,
          0.03591677493306701,
          0.031621669801704916,
          0.09719511319128185,
          0.08093639169769239,
          0.08093639169769239
         ],
         "yaxis": "y3"
        },
        {
         "customdata": [
          [
           "Jensen-Shannon distance for <b>balance_euros</b>",
           "<b style=\"color:#00c8e5;line-height:60px\">Reference</b>",
           "",
           "[0:4520]",
           "Chunk index: <b>0</b>",
           0.0333
          ],
          [
           "Jensen-Shannon distance for <b>balance_euros</b>",
           "<b style=\"color:#00c8e5;line-height:60px\">Reference</b>",
           "",
           "[4521:9041]",
           "Chunk index: <b>1</b>",
           0.0286
          ],
          [
           "Jensen-Shannon distance for <b>balance_euros</b>",
           "<b style=\"color:#00c8e5;line-height:60px\">Reference</b>",
           "<span style=\"color:#AD0000\">⚠ <b>Drift detected</b></span>",
           "[9042:13562]",
           "Chunk index: <b>2</b>",
           0.111
          ],
          [
           "Jensen-Shannon distance for <b>balance_euros</b>",
           "<b style=\"color:#00c8e5;line-height:60px\">Reference</b>",
           "",
           "[13563:18083]",
           "Chunk index: <b>3</b>",
           0.0328
          ],
          [
           "Jensen-Shannon distance for <b>balance_euros</b>",
           "<b style=\"color:#00c8e5;line-height:60px\">Reference</b>",
           "<span style=\"color:#AD0000\">⚠ <b>Drift detected</b></span>",
           "[18084:22604]",
           "Chunk index: <b>4</b>",
           0.1124
          ],
          [
           "Jensen-Shannon distance for <b>balance_euros</b>",
           "<b style=\"color:#00c8e5;line-height:60px\">Reference</b>",
           "",
           "[22605:27125]",
           "Chunk index: <b>5</b>",
           0.0485
          ],
          [
           "Jensen-Shannon distance for <b>balance_euros</b>",
           "<b style=\"color:#00c8e5;line-height:60px\">Reference</b>",
           "",
           "[27126:31646]",
           "Chunk index: <b>6</b>",
           0.0359
          ],
          [
           "Jensen-Shannon distance for <b>balance_euros</b>",
           "<b style=\"color:#00c8e5;line-height:60px\">Reference</b>",
           "",
           "[31647:36167]",
           "Chunk index: <b>7</b>",
           0.0316
          ],
          [
           "Jensen-Shannon distance for <b>balance_euros</b>",
           "<b style=\"color:#00c8e5;line-height:60px\">Reference</b>",
           "",
           "[36168:40688]",
           "Chunk index: <b>8</b>",
           0.0972
          ],
          [
           "Jensen-Shannon distance for <b>balance_euros</b>",
           "<b style=\"color:#00c8e5;line-height:60px\">Reference</b>",
           "",
           "[40689:45210]",
           "Chunk index: <b>9</b>",
           0.0809
          ],
          [
           "Jensen-Shannon distance for <b>balance_euros</b>",
           "<b style=\"color:#00c8e5;line-height:60px\">Reference</b>",
           "",
           "[0:4520]",
           "Chunk index: <b>0</b>",
           0.0333
          ],
          [
           "Jensen-Shannon distance for <b>balance_euros</b>",
           "<b style=\"color:#00c8e5;line-height:60px\">Reference</b>",
           "",
           "[4521:9041]",
           "Chunk index: <b>1</b>",
           0.0286
          ],
          [
           "Jensen-Shannon distance for <b>balance_euros</b>",
           "<b style=\"color:#00c8e5;line-height:60px\">Reference</b>",
           "<span style=\"color:#AD0000\">⚠ <b>Drift detected</b></span>",
           "[9042:13562]",
           "Chunk index: <b>2</b>",
           0.111
          ],
          [
           "Jensen-Shannon distance for <b>balance_euros</b>",
           "<b style=\"color:#00c8e5;line-height:60px\">Reference</b>",
           "",
           "[13563:18083]",
           "Chunk index: <b>3</b>",
           0.0328
          ],
          [
           "Jensen-Shannon distance for <b>balance_euros</b>",
           "<b style=\"color:#00c8e5;line-height:60px\">Reference</b>",
           "<span style=\"color:#AD0000\">⚠ <b>Drift detected</b></span>",
           "[18084:22604]",
           "Chunk index: <b>4</b>",
           0.1124
          ],
          [
           "Jensen-Shannon distance for <b>balance_euros</b>",
           "<b style=\"color:#00c8e5;line-height:60px\">Reference</b>",
           "",
           "[22605:27125]",
           "Chunk index: <b>5</b>",
           0.0485
          ],
          [
           "Jensen-Shannon distance for <b>balance_euros</b>",
           "<b style=\"color:#00c8e5;line-height:60px\">Reference</b>",
           "",
           "[27126:31646]",
           "Chunk index: <b>6</b>",
           0.0359
          ],
          [
           "Jensen-Shannon distance for <b>balance_euros</b>",
           "<b style=\"color:#00c8e5;line-height:60px\">Reference</b>",
           "",
           "[31647:36167]",
           "Chunk index: <b>7</b>",
           0.0316
          ],
          [
           "Jensen-Shannon distance for <b>balance_euros</b>",
           "<b style=\"color:#00c8e5;line-height:60px\">Reference</b>",
           "",
           "[36168:40688]",
           "Chunk index: <b>8</b>",
           0.0972
          ],
          [
           "Jensen-Shannon distance for <b>balance_euros</b>",
           "<b style=\"color:#00c8e5;line-height:60px\">Reference</b>",
           "",
           "[40689:45210]",
           "Chunk index: <b>9</b>",
           0.0809
          ]
         ],
         "hovertemplate": "%{customdata[1]} &nbsp; &nbsp; %{customdata[2]} <br />Chunk: <b>%{customdata[3]}</b> &nbsp; &nbsp; %{customdata[4]} <br />%{customdata[0]}: <b>%{customdata[5]}</b><b r /><extra></extra>",
         "legendgroup": "metric_reference",
         "marker": {
          "color": "#00c8e5",
          "size": 5,
          "symbol": "circle"
         },
         "mode": "markers",
         "name": "Method",
         "showlegend": false,
         "type": "scatter",
         "x": [
          0.5,
          1.5,
          2.5,
          3.5,
          4.5,
          5.5,
          6.5,
          7.5,
          8.5,
          4.5,
          0.5,
          1.5,
          2.5,
          3.5,
          4.5,
          5.5,
          6.5,
          7.5,
          8.5,
          9.5
         ],
         "xaxis": "x3",
         "y": [
          0.033345593706544704,
          0.02855792146729294,
          0.1110161028127979,
          0.032793186314535296,
          0.11236007206275232,
          0.04853043053540661,
          0.03591677493306701,
          0.031621669801704916,
          0.09719511319128185,
          0.08093639169769239,
          0.033345593706544704,
          0.02855792146729294,
          0.1110161028127979,
          0.032793186314535296,
          0.11236007206275232,
          0.04853043053540661,
          0.03591677493306701,
          0.031621669801704916,
          0.09719511319128185,
          0.08093639169769239,
          0.08093639169769239
         ],
         "yaxis": "y3"
        },
        {
         "hoverinfo": "skip",
         "legendgroup": "metric_analysis",
         "line": {
          "color": "#00c8e5",
          "shape": "hv",
          "width": 2
         },
         "mode": "lines",
         "name": "Method",
         "showlegend": false,
         "type": "scatter",
         "x": [
          10,
          11,
          12,
          13,
          14,
          15,
          16,
          17,
          18,
          19,
          20
         ],
         "xaxis": "x3",
         "y": [
          0.15141600552652706,
          0.06662917938481547,
          0.028205196561464564,
          0.06932975826344291,
          0.1235505220506782,
          0.03459862940520781,
          0.10689132835599498,
          0.09017026207087799,
          0.0741777792018705,
          0.08220524200367836,
          0.08220524200367836
         ],
         "yaxis": "y3"
        },
        {
         "customdata": [
          [
           "Jensen-Shannon distance for <b>balance_euros</b>",
           "<b style=\"color:#00c8e5;line-height:60px\">Analysis</b>",
           "<span style=\"color:#AD0000\">⚠ <b>Drift detected</b></span>",
           "[0:2197]",
           "Chunk index: <b>0</b>",
           0.1514
          ],
          [
           "Jensen-Shannon distance for <b>balance_euros</b>",
           "<b style=\"color:#00c8e5;line-height:60px\">Analysis</b>",
           "",
           "[2198:4395]",
           "Chunk index: <b>1</b>",
           0.0666
          ],
          [
           "Jensen-Shannon distance for <b>balance_euros</b>",
           "<b style=\"color:#00c8e5;line-height:60px\">Analysis</b>",
           "",
           "[4396:6593]",
           "Chunk index: <b>2</b>",
           0.0282
          ],
          [
           "Jensen-Shannon distance for <b>balance_euros</b>",
           "<b style=\"color:#00c8e5;line-height:60px\">Analysis</b>",
           "",
           "[6594:8791]",
           "Chunk index: <b>3</b>",
           0.0693
          ],
          [
           "Jensen-Shannon distance for <b>balance_euros</b>",
           "<b style=\"color:#00c8e5;line-height:60px\">Analysis</b>",
           "<span style=\"color:#AD0000\">⚠ <b>Drift detected</b></span>",
           "[8792:10989]",
           "Chunk index: <b>4</b>",
           0.1236
          ],
          [
           "Jensen-Shannon distance for <b>balance_euros</b>",
           "<b style=\"color:#00c8e5;line-height:60px\">Analysis</b>",
           "",
           "[10990:13187]",
           "Chunk index: <b>5</b>",
           0.0346
          ],
          [
           "Jensen-Shannon distance for <b>balance_euros</b>",
           "<b style=\"color:#00c8e5;line-height:60px\">Analysis</b>",
           "<span style=\"color:#AD0000\">⚠ <b>Drift detected</b></span>",
           "[13188:15385]",
           "Chunk index: <b>6</b>",
           0.1069
          ],
          [
           "Jensen-Shannon distance for <b>balance_euros</b>",
           "<b style=\"color:#00c8e5;line-height:60px\">Analysis</b>",
           "",
           "[15386:17583]",
           "Chunk index: <b>7</b>",
           0.0902
          ],
          [
           "Jensen-Shannon distance for <b>balance_euros</b>",
           "<b style=\"color:#00c8e5;line-height:60px\">Analysis</b>",
           "",
           "[17584:19781]",
           "Chunk index: <b>8</b>",
           0.0742
          ],
          [
           "Jensen-Shannon distance for <b>balance_euros</b>",
           "<b style=\"color:#00c8e5;line-height:60px\">Analysis</b>",
           "",
           "[19782:21982]",
           "Chunk index: <b>9</b>",
           0.0822
          ]
         ],
         "hovertemplate": "%{customdata[1]} &nbsp; &nbsp; %{customdata[2]} <br />Chunk: <b>%{customdata[3]}</b> &nbsp; &nbsp; %{customdata[4]} <br />%{customdata[0]}: <b>%{customdata[5]}</b><b r /><extra></extra>",
         "legendgroup": "metric_analysis",
         "marker": {
          "color": "#00c8e5",
          "size": 5,
          "symbol": "circle"
         },
         "mode": "markers",
         "name": "Method",
         "showlegend": false,
         "type": "scatter",
         "x": [
          10.5,
          11.5,
          12.5,
          13.5,
          14.5,
          15.5,
          16.5,
          17.5,
          18.5,
          19.5
         ],
         "xaxis": "x3",
         "y": [
          0.15141600552652706,
          0.06662917938481547,
          0.028205196561464564,
          0.06932975826344291,
          0.1235505220506782,
          0.03459862940520781,
          0.10689132835599498,
          0.09017026207087799,
          0.0741777792018705,
          0.08220524200367836,
          0.08220524200367836
         ],
         "yaxis": "y3"
        },
        {
         "hoverinfo": "skip",
         "legendgroup": "alert",
         "marker": {
          "color": "#DD4040",
          "size": 8,
          "symbol": "diamond"
         },
         "mode": "markers",
         "name": "Alert",
         "showlegend": false,
         "type": "scatter",
         "x": [
          10.5,
          14.5,
          16.5
         ],
         "xaxis": "x3",
         "y": [
          0.15141600552652706,
          0.1235505220506782,
          0.10689132835599498
         ],
         "yaxis": "y3"
        },
        {
         "hoverinfo": "skip",
         "legendgroup": "thresh",
         "line": {
          "color": "#DD4040",
          "dash": "dash",
          "width": 2
         },
         "mode": "lines",
         "name": "Threshold",
         "showlegend": false,
         "type": "scatter",
         "x": [
          0,
          1,
          2,
          3,
          4,
          5,
          6,
          7,
          8,
          9,
          0,
          1,
          2,
          3,
          4,
          5,
          6,
          7,
          8,
          9,
          10
         ],
         "xaxis": "x3",
         "y": [
          0.1,
          0.1,
          0.1,
          0.1,
          0.1,
          0.1,
          0.1,
          0.1,
          0.1,
          0.1,
          0.1,
          0.1,
          0.1,
          0.1,
          0.1,
          0.1,
          0.1,
          0.1,
          0.1,
          0.1,
          0.1
         ],
         "yaxis": "y3"
        },
        {
         "hoverinfo": "skip",
         "legendgroup": "thresh",
         "line": {
          "color": "#DD4040",
          "dash": "dash",
          "width": 2
         },
         "mode": "lines",
         "name": "Threshold",
         "showlegend": false,
         "type": "scatter",
         "x": [
          10,
          11,
          12,
          13,
          14,
          15,
          16,
          17,
          18,
          19,
          20
         ],
         "xaxis": "x3",
         "y": [
          0.1,
          0.1,
          0.1,
          0.1,
          0.1,
          0.1,
          0.1,
          0.1,
          0.1,
          0.1,
          0.1
         ],
         "yaxis": "y3"
        },
        {
         "hoverinfo": "skip",
         "legendgroup": "metric_reference",
         "line": {
          "color": "#00c8e5",
          "shape": "hv",
          "width": 2
         },
         "mode": "lines",
         "name": "Method",
         "showlegend": false,
         "type": "scatter",
         "x": [
          0,
          1,
          2,
          3,
          4,
          5,
          6,
          7,
          8,
          9,
          0,
          1,
          2,
          3,
          4,
          5,
          6,
          7,
          8,
          9,
          10
         ],
         "xaxis": "x4",
         "y": [
          0.08033795440936047,
          0.04610160607933905,
          0.12354457959469467,
          0.028819372837130874,
          0.12643778944225526,
          0.062257610339459035,
          0.03513889708160933,
          0.04215413925036618,
          0.11586758249728835,
          0.08595997825166302,
          0.08033795440936047,
          0.04610160607933905,
          0.12354457959469467,
          0.028819372837130874,
          0.12643778944225526,
          0.062257610339459035,
          0.03513889708160933,
          0.04215413925036618,
          0.11586758249728835,
          0.08595997825166302,
          0.08595997825166302
         ],
         "yaxis": "y4"
        },
        {
         "customdata": [
          [
           "Kolmogorov-Smirnov statistic for <b>balance_euros</b>",
           "<b style=\"color:#00c8e5;line-height:60px\">Reference</b>",
           "",
           "[0:4520]",
           "Chunk index: <b>0</b>",
           0.0803
          ],
          [
           "Kolmogorov-Smirnov statistic for <b>balance_euros</b>",
           "<b style=\"color:#00c8e5;line-height:60px\">Reference</b>",
           "",
           "[4521:9041]",
           "Chunk index: <b>1</b>",
           0.0461
          ],
          [
           "Kolmogorov-Smirnov statistic for <b>balance_euros</b>",
           "<b style=\"color:#00c8e5;line-height:60px\">Reference</b>",
           "",
           "[9042:13562]",
           "Chunk index: <b>2</b>",
           0.1235
          ],
          [
           "Kolmogorov-Smirnov statistic for <b>balance_euros</b>",
           "<b style=\"color:#00c8e5;line-height:60px\">Reference</b>",
           "",
           "[13563:18083]",
           "Chunk index: <b>3</b>",
           0.0288
          ],
          [
           "Kolmogorov-Smirnov statistic for <b>balance_euros</b>",
           "<b style=\"color:#00c8e5;line-height:60px\">Reference</b>",
           "",
           "[18084:22604]",
           "Chunk index: <b>4</b>",
           0.1264
          ],
          [
           "Kolmogorov-Smirnov statistic for <b>balance_euros</b>",
           "<b style=\"color:#00c8e5;line-height:60px\">Reference</b>",
           "",
           "[22605:27125]",
           "Chunk index: <b>5</b>",
           0.0623
          ],
          [
           "Kolmogorov-Smirnov statistic for <b>balance_euros</b>",
           "<b style=\"color:#00c8e5;line-height:60px\">Reference</b>",
           "",
           "[27126:31646]",
           "Chunk index: <b>6</b>",
           0.0351
          ],
          [
           "Kolmogorov-Smirnov statistic for <b>balance_euros</b>",
           "<b style=\"color:#00c8e5;line-height:60px\">Reference</b>",
           "",
           "[31647:36167]",
           "Chunk index: <b>7</b>",
           0.0422
          ],
          [
           "Kolmogorov-Smirnov statistic for <b>balance_euros</b>",
           "<b style=\"color:#00c8e5;line-height:60px\">Reference</b>",
           "",
           "[36168:40688]",
           "Chunk index: <b>8</b>",
           0.1159
          ],
          [
           "Kolmogorov-Smirnov statistic for <b>balance_euros</b>",
           "<b style=\"color:#00c8e5;line-height:60px\">Reference</b>",
           "",
           "[40689:45210]",
           "Chunk index: <b>9</b>",
           0.086
          ],
          [
           "Kolmogorov-Smirnov statistic for <b>balance_euros</b>",
           "<b style=\"color:#00c8e5;line-height:60px\">Reference</b>",
           "",
           "[0:4520]",
           "Chunk index: <b>0</b>",
           0.0803
          ],
          [
           "Kolmogorov-Smirnov statistic for <b>balance_euros</b>",
           "<b style=\"color:#00c8e5;line-height:60px\">Reference</b>",
           "",
           "[4521:9041]",
           "Chunk index: <b>1</b>",
           0.0461
          ],
          [
           "Kolmogorov-Smirnov statistic for <b>balance_euros</b>",
           "<b style=\"color:#00c8e5;line-height:60px\">Reference</b>",
           "",
           "[9042:13562]",
           "Chunk index: <b>2</b>",
           0.1235
          ],
          [
           "Kolmogorov-Smirnov statistic for <b>balance_euros</b>",
           "<b style=\"color:#00c8e5;line-height:60px\">Reference</b>",
           "",
           "[13563:18083]",
           "Chunk index: <b>3</b>",
           0.0288
          ],
          [
           "Kolmogorov-Smirnov statistic for <b>balance_euros</b>",
           "<b style=\"color:#00c8e5;line-height:60px\">Reference</b>",
           "",
           "[18084:22604]",
           "Chunk index: <b>4</b>",
           0.1264
          ],
          [
           "Kolmogorov-Smirnov statistic for <b>balance_euros</b>",
           "<b style=\"color:#00c8e5;line-height:60px\">Reference</b>",
           "",
           "[22605:27125]",
           "Chunk index: <b>5</b>",
           0.0623
          ],
          [
           "Kolmogorov-Smirnov statistic for <b>balance_euros</b>",
           "<b style=\"color:#00c8e5;line-height:60px\">Reference</b>",
           "",
           "[27126:31646]",
           "Chunk index: <b>6</b>",
           0.0351
          ],
          [
           "Kolmogorov-Smirnov statistic for <b>balance_euros</b>",
           "<b style=\"color:#00c8e5;line-height:60px\">Reference</b>",
           "",
           "[31647:36167]",
           "Chunk index: <b>7</b>",
           0.0422
          ],
          [
           "Kolmogorov-Smirnov statistic for <b>balance_euros</b>",
           "<b style=\"color:#00c8e5;line-height:60px\">Reference</b>",
           "",
           "[36168:40688]",
           "Chunk index: <b>8</b>",
           0.1159
          ],
          [
           "Kolmogorov-Smirnov statistic for <b>balance_euros</b>",
           "<b style=\"color:#00c8e5;line-height:60px\">Reference</b>",
           "",
           "[40689:45210]",
           "Chunk index: <b>9</b>",
           0.086
          ]
         ],
         "hovertemplate": "%{customdata[1]} &nbsp; &nbsp; %{customdata[2]} <br />Chunk: <b>%{customdata[3]}</b> &nbsp; &nbsp; %{customdata[4]} <br />%{customdata[0]}: <b>%{customdata[5]}</b><b r /><extra></extra>",
         "legendgroup": "metric_reference",
         "marker": {
          "color": "#00c8e5",
          "size": 5,
          "symbol": "circle"
         },
         "mode": "markers",
         "name": "Method",
         "showlegend": false,
         "type": "scatter",
         "x": [
          0.5,
          1.5,
          2.5,
          3.5,
          4.5,
          5.5,
          6.5,
          7.5,
          8.5,
          4.5,
          0.5,
          1.5,
          2.5,
          3.5,
          4.5,
          5.5,
          6.5,
          7.5,
          8.5,
          9.5
         ],
         "xaxis": "x4",
         "y": [
          0.08033795440936047,
          0.04610160607933905,
          0.12354457959469467,
          0.028819372837130874,
          0.12643778944225526,
          0.062257610339459035,
          0.03513889708160933,
          0.04215413925036618,
          0.11586758249728835,
          0.08595997825166302,
          0.08033795440936047,
          0.04610160607933905,
          0.12354457959469467,
          0.028819372837130874,
          0.12643778944225526,
          0.062257610339459035,
          0.03513889708160933,
          0.04215413925036618,
          0.11586758249728835,
          0.08595997825166302,
          0.08595997825166302
         ],
         "yaxis": "y4"
        },
        {
         "hoverinfo": "skip",
         "legendgroup": "metric_analysis",
         "line": {
          "color": "#00c8e5",
          "shape": "hv",
          "width": 2
         },
         "mode": "lines",
         "name": "Method",
         "showlegend": false,
         "type": "scatter",
         "x": [
          10,
          11,
          12,
          13,
          14,
          15,
          16,
          17,
          18,
          19,
          20
         ],
         "xaxis": "x4",
         "y": [
          0.17705368915328934,
          0.16055483972844425,
          0.08035188115722035,
          0.10141016274937242,
          0.18421271052007304,
          0.12461307448731591,
          0.11733372962835326,
          0.11733372962835328,
          0.1687441026947773,
          0.19837845286814126,
          0.19837845286814126
         ],
         "yaxis": "y4"
        },
        {
         "customdata": [
          [
           "Kolmogorov-Smirnov statistic for <b>balance_euros</b>",
           "<b style=\"color:#00c8e5;line-height:60px\">Analysis</b>",
           "",
           "[0:2197]",
           "Chunk index: <b>0</b>",
           0.1771
          ],
          [
           "Kolmogorov-Smirnov statistic for <b>balance_euros</b>",
           "<b style=\"color:#00c8e5;line-height:60px\">Analysis</b>",
           "",
           "[2198:4395]",
           "Chunk index: <b>1</b>",
           0.1606
          ],
          [
           "Kolmogorov-Smirnov statistic for <b>balance_euros</b>",
           "<b style=\"color:#00c8e5;line-height:60px\">Analysis</b>",
           "",
           "[4396:6593]",
           "Chunk index: <b>2</b>",
           0.0804
          ],
          [
           "Kolmogorov-Smirnov statistic for <b>balance_euros</b>",
           "<b style=\"color:#00c8e5;line-height:60px\">Analysis</b>",
           "",
           "[6594:8791]",
           "Chunk index: <b>3</b>",
           0.1014
          ],
          [
           "Kolmogorov-Smirnov statistic for <b>balance_euros</b>",
           "<b style=\"color:#00c8e5;line-height:60px\">Analysis</b>",
           "<span style=\"color:#AD0000\">⚠ <b>Drift detected</b></span>",
           "[8792:10989]",
           "Chunk index: <b>4</b>",
           0.1842
          ],
          [
           "Kolmogorov-Smirnov statistic for <b>balance_euros</b>",
           "<b style=\"color:#00c8e5;line-height:60px\">Analysis</b>",
           "",
           "[10990:13187]",
           "Chunk index: <b>5</b>",
           0.1246
          ],
          [
           "Kolmogorov-Smirnov statistic for <b>balance_euros</b>",
           "<b style=\"color:#00c8e5;line-height:60px\">Analysis</b>",
           "",
           "[13188:15385]",
           "Chunk index: <b>6</b>",
           0.1173
          ],
          [
           "Kolmogorov-Smirnov statistic for <b>balance_euros</b>",
           "<b style=\"color:#00c8e5;line-height:60px\">Analysis</b>",
           "",
           "[15386:17583]",
           "Chunk index: <b>7</b>",
           0.1173
          ],
          [
           "Kolmogorov-Smirnov statistic for <b>balance_euros</b>",
           "<b style=\"color:#00c8e5;line-height:60px\">Analysis</b>",
           "",
           "[17584:19781]",
           "Chunk index: <b>8</b>",
           0.1687
          ],
          [
           "Kolmogorov-Smirnov statistic for <b>balance_euros</b>",
           "<b style=\"color:#00c8e5;line-height:60px\">Analysis</b>",
           "<span style=\"color:#AD0000\">⚠ <b>Drift detected</b></span>",
           "[19782:21982]",
           "Chunk index: <b>9</b>",
           0.1984
          ]
         ],
         "hovertemplate": "%{customdata[1]} &nbsp; &nbsp; %{customdata[2]} <br />Chunk: <b>%{customdata[3]}</b> &nbsp; &nbsp; %{customdata[4]} <br />%{customdata[0]}: <b>%{customdata[5]}</b><b r /><extra></extra>",
         "legendgroup": "metric_analysis",
         "marker": {
          "color": "#00c8e5",
          "size": 5,
          "symbol": "circle"
         },
         "mode": "markers",
         "name": "Method",
         "showlegend": false,
         "type": "scatter",
         "x": [
          10.5,
          11.5,
          12.5,
          13.5,
          14.5,
          15.5,
          16.5,
          17.5,
          18.5,
          19.5
         ],
         "xaxis": "x4",
         "y": [
          0.17705368915328934,
          0.16055483972844425,
          0.08035188115722035,
          0.10141016274937242,
          0.18421271052007304,
          0.12461307448731591,
          0.11733372962835326,
          0.11733372962835328,
          0.1687441026947773,
          0.19837845286814126,
          0.19837845286814126
         ],
         "yaxis": "y4"
        },
        {
         "hoverinfo": "skip",
         "legendgroup": "alert",
         "marker": {
          "color": "#DD4040",
          "size": 8,
          "symbol": "diamond"
         },
         "mode": "markers",
         "name": "Alert",
         "showlegend": false,
         "type": "scatter",
         "x": [
          14.5,
          19.5
         ],
         "xaxis": "x4",
         "y": [
          0.18421271052007304,
          0.19837845286814126
         ],
         "yaxis": "y4"
        },
        {
         "hoverinfo": "skip",
         "legendgroup": "thresh",
         "line": {
          "color": "#DD4040",
          "dash": "dash",
          "width": 2
         },
         "mode": "lines",
         "name": "Threshold",
         "showlegend": false,
         "type": "scatter",
         "x": [
          0,
          1,
          2,
          3,
          4,
          5,
          6,
          7,
          8,
          9,
          0,
          1,
          2,
          3,
          4,
          5,
          6,
          7,
          8,
          9,
          10
         ],
         "xaxis": "x4",
         "y": [
          0.1812272037369956,
          0.1812272037369956,
          0.1812272037369956,
          0.1812272037369956,
          0.1812272037369956,
          0.1812272037369956,
          0.1812272037369956,
          0.1812272037369956,
          0.1812272037369956,
          0.1812272037369956,
          0.1812272037369956,
          0.1812272037369956,
          0.1812272037369956,
          0.1812272037369956,
          0.1812272037369956,
          0.1812272037369956,
          0.1812272037369956,
          0.1812272037369956,
          0.1812272037369956,
          0.1812272037369956,
          0.1812272037369956
         ],
         "yaxis": "y4"
        },
        {
         "hoverinfo": "skip",
         "legendgroup": "thresh",
         "line": {
          "color": "#DD4040",
          "dash": "dash",
          "width": 2
         },
         "mode": "lines",
         "name": "Threshold",
         "showlegend": false,
         "type": "scatter",
         "x": [
          10,
          11,
          12,
          13,
          14,
          15,
          16,
          17,
          18,
          19,
          20
         ],
         "xaxis": "x4",
         "y": [
          0.1812272037369956,
          0.1812272037369956,
          0.1812272037369956,
          0.1812272037369956,
          0.1812272037369956,
          0.1812272037369956,
          0.1812272037369956,
          0.1812272037369956,
          0.1812272037369956,
          0.1812272037369956,
          0.1812272037369956
         ],
         "yaxis": "y4"
        },
        {
         "hoverinfo": "skip",
         "legendgroup": "metric_reference",
         "line": {
          "color": "#00c8e5",
          "shape": "hv",
          "width": 2
         },
         "mode": "lines",
         "name": "Method",
         "showlegend": false,
         "type": "scatter",
         "x": [
          0,
          1,
          2,
          3,
          4,
          5,
          6,
          7,
          8,
          9,
          0,
          1,
          2,
          3,
          4,
          5,
          6,
          7,
          8,
          9,
          10
         ],
         "xaxis": "x5",
         "y": [
          0.2705650399751071,
          0.19730382385307785,
          0.003793336330803428,
          0.3234106019813977,
          0.05098378635491297,
          0.06581283090773077,
          0.2504189737614739,
          0.09033820379920375,
          0.24294009837067698,
          0.33863994369644435,
          0.2705650399751071,
          0.19730382385307785,
          0.003793336330803428,
          0.3234106019813977,
          0.05098378635491297,
          0.06581283090773077,
          0.2504189737614739,
          0.09033820379920375,
          0.24294009837067698,
          0.33863994369644435,
          0.33863994369644435
         ],
         "yaxis": "y5"
        },
        {
         "customdata": [
          [
           "Jensen-Shannon distance for <b>housing_loan</b>",
           "<b style=\"color:#00c8e5;line-height:60px\">Reference</b>",
           "<span style=\"color:#AD0000\">⚠ <b>Drift detected</b></span>",
           "[0:4520]",
           "Chunk index: <b>0</b>",
           0.2706
          ],
          [
           "Jensen-Shannon distance for <b>housing_loan</b>",
           "<b style=\"color:#00c8e5;line-height:60px\">Reference</b>",
           "<span style=\"color:#AD0000\">⚠ <b>Drift detected</b></span>",
           "[4521:9041]",
           "Chunk index: <b>1</b>",
           0.1973
          ],
          [
           "Jensen-Shannon distance for <b>housing_loan</b>",
           "<b style=\"color:#00c8e5;line-height:60px\">Reference</b>",
           "",
           "[9042:13562]",
           "Chunk index: <b>2</b>",
           0.0038
          ],
          [
           "Jensen-Shannon distance for <b>housing_loan</b>",
           "<b style=\"color:#00c8e5;line-height:60px\">Reference</b>",
           "<span style=\"color:#AD0000\">⚠ <b>Drift detected</b></span>",
           "[13563:18083]",
           "Chunk index: <b>3</b>",
           0.3234
          ],
          [
           "Jensen-Shannon distance for <b>housing_loan</b>",
           "<b style=\"color:#00c8e5;line-height:60px\">Reference</b>",
           "",
           "[18084:22604]",
           "Chunk index: <b>4</b>",
           0.051
          ],
          [
           "Jensen-Shannon distance for <b>housing_loan</b>",
           "<b style=\"color:#00c8e5;line-height:60px\">Reference</b>",
           "",
           "[22605:27125]",
           "Chunk index: <b>5</b>",
           0.0658
          ],
          [
           "Jensen-Shannon distance for <b>housing_loan</b>",
           "<b style=\"color:#00c8e5;line-height:60px\">Reference</b>",
           "<span style=\"color:#AD0000\">⚠ <b>Drift detected</b></span>",
           "[27126:31646]",
           "Chunk index: <b>6</b>",
           0.2504
          ],
          [
           "Jensen-Shannon distance for <b>housing_loan</b>",
           "<b style=\"color:#00c8e5;line-height:60px\">Reference</b>",
           "",
           "[31647:36167]",
           "Chunk index: <b>7</b>",
           0.0903
          ],
          [
           "Jensen-Shannon distance for <b>housing_loan</b>",
           "<b style=\"color:#00c8e5;line-height:60px\">Reference</b>",
           "<span style=\"color:#AD0000\">⚠ <b>Drift detected</b></span>",
           "[36168:40688]",
           "Chunk index: <b>8</b>",
           0.2429
          ],
          [
           "Jensen-Shannon distance for <b>housing_loan</b>",
           "<b style=\"color:#00c8e5;line-height:60px\">Reference</b>",
           "<span style=\"color:#AD0000\">⚠ <b>Drift detected</b></span>",
           "[40689:45210]",
           "Chunk index: <b>9</b>",
           0.3386
          ],
          [
           "Jensen-Shannon distance for <b>housing_loan</b>",
           "<b style=\"color:#00c8e5;line-height:60px\">Reference</b>",
           "<span style=\"color:#AD0000\">⚠ <b>Drift detected</b></span>",
           "[0:4520]",
           "Chunk index: <b>0</b>",
           0.2706
          ],
          [
           "Jensen-Shannon distance for <b>housing_loan</b>",
           "<b style=\"color:#00c8e5;line-height:60px\">Reference</b>",
           "<span style=\"color:#AD0000\">⚠ <b>Drift detected</b></span>",
           "[4521:9041]",
           "Chunk index: <b>1</b>",
           0.1973
          ],
          [
           "Jensen-Shannon distance for <b>housing_loan</b>",
           "<b style=\"color:#00c8e5;line-height:60px\">Reference</b>",
           "",
           "[9042:13562]",
           "Chunk index: <b>2</b>",
           0.0038
          ],
          [
           "Jensen-Shannon distance for <b>housing_loan</b>",
           "<b style=\"color:#00c8e5;line-height:60px\">Reference</b>",
           "<span style=\"color:#AD0000\">⚠ <b>Drift detected</b></span>",
           "[13563:18083]",
           "Chunk index: <b>3</b>",
           0.3234
          ],
          [
           "Jensen-Shannon distance for <b>housing_loan</b>",
           "<b style=\"color:#00c8e5;line-height:60px\">Reference</b>",
           "",
           "[18084:22604]",
           "Chunk index: <b>4</b>",
           0.051
          ],
          [
           "Jensen-Shannon distance for <b>housing_loan</b>",
           "<b style=\"color:#00c8e5;line-height:60px\">Reference</b>",
           "",
           "[22605:27125]",
           "Chunk index: <b>5</b>",
           0.0658
          ],
          [
           "Jensen-Shannon distance for <b>housing_loan</b>",
           "<b style=\"color:#00c8e5;line-height:60px\">Reference</b>",
           "<span style=\"color:#AD0000\">⚠ <b>Drift detected</b></span>",
           "[27126:31646]",
           "Chunk index: <b>6</b>",
           0.2504
          ],
          [
           "Jensen-Shannon distance for <b>housing_loan</b>",
           "<b style=\"color:#00c8e5;line-height:60px\">Reference</b>",
           "",
           "[31647:36167]",
           "Chunk index: <b>7</b>",
           0.0903
          ],
          [
           "Jensen-Shannon distance for <b>housing_loan</b>",
           "<b style=\"color:#00c8e5;line-height:60px\">Reference</b>",
           "<span style=\"color:#AD0000\">⚠ <b>Drift detected</b></span>",
           "[36168:40688]",
           "Chunk index: <b>8</b>",
           0.2429
          ],
          [
           "Jensen-Shannon distance for <b>housing_loan</b>",
           "<b style=\"color:#00c8e5;line-height:60px\">Reference</b>",
           "<span style=\"color:#AD0000\">⚠ <b>Drift detected</b></span>",
           "[40689:45210]",
           "Chunk index: <b>9</b>",
           0.3386
          ]
         ],
         "hovertemplate": "%{customdata[1]} &nbsp; &nbsp; %{customdata[2]} <br />Chunk: <b>%{customdata[3]}</b> &nbsp; &nbsp; %{customdata[4]} <br />%{customdata[0]}: <b>%{customdata[5]}</b><b r /><extra></extra>",
         "legendgroup": "metric_reference",
         "marker": {
          "color": "#00c8e5",
          "size": 5,
          "symbol": "circle"
         },
         "mode": "markers",
         "name": "Method",
         "showlegend": false,
         "type": "scatter",
         "x": [
          0.5,
          1.5,
          2.5,
          3.5,
          4.5,
          5.5,
          6.5,
          7.5,
          8.5,
          4.5,
          0.5,
          1.5,
          2.5,
          3.5,
          4.5,
          5.5,
          6.5,
          7.5,
          8.5,
          9.5
         ],
         "xaxis": "x5",
         "y": [
          0.2705650399751071,
          0.19730382385307785,
          0.003793336330803428,
          0.3234106019813977,
          0.05098378635491297,
          0.06581283090773077,
          0.2504189737614739,
          0.09033820379920375,
          0.24294009837067698,
          0.33863994369644435,
          0.2705650399751071,
          0.19730382385307785,
          0.003793336330803428,
          0.3234106019813977,
          0.05098378635491297,
          0.06581283090773077,
          0.2504189737614739,
          0.09033820379920375,
          0.24294009837067698,
          0.33863994369644435,
          0.33863994369644435
         ],
         "yaxis": "y5"
        },
        {
         "hoverinfo": "skip",
         "legendgroup": "metric_analysis",
         "line": {
          "color": "#00c8e5",
          "shape": "hv",
          "width": 2
         },
         "mode": "lines",
         "name": "Method",
         "showlegend": false,
         "type": "scatter",
         "x": [
          10,
          11,
          12,
          13,
          14,
          15,
          16,
          17,
          18,
          19,
          20
         ],
         "xaxis": "x5",
         "y": [
          0.3277264879394469,
          0.33641801575003766,
          0.3465022379319689,
          0.3501252756446813,
          0.17198257003183776,
          0.2190473809937937,
          0.005724316399095985,
          0.03490608954509846,
          0.19450840966132218,
          0.3290138709885811,
          0.3290138709885811
         ],
         "yaxis": "y5"
        },
        {
         "customdata": [
          [
           "Jensen-Shannon distance for <b>housing_loan</b>",
           "<b style=\"color:#00c8e5;line-height:60px\">Analysis</b>",
           "<span style=\"color:#AD0000\">⚠ <b>Drift detected</b></span>",
           "[0:2197]",
           "Chunk index: <b>0</b>",
           0.3277
          ],
          [
           "Jensen-Shannon distance for <b>housing_loan</b>",
           "<b style=\"color:#00c8e5;line-height:60px\">Analysis</b>",
           "<span style=\"color:#AD0000\">⚠ <b>Drift detected</b></span>",
           "[2198:4395]",
           "Chunk index: <b>1</b>",
           0.3364
          ],
          [
           "Jensen-Shannon distance for <b>housing_loan</b>",
           "<b style=\"color:#00c8e5;line-height:60px\">Analysis</b>",
           "<span style=\"color:#AD0000\">⚠ <b>Drift detected</b></span>",
           "[4396:6593]",
           "Chunk index: <b>2</b>",
           0.3465
          ],
          [
           "Jensen-Shannon distance for <b>housing_loan</b>",
           "<b style=\"color:#00c8e5;line-height:60px\">Analysis</b>",
           "<span style=\"color:#AD0000\">⚠ <b>Drift detected</b></span>",
           "[6594:8791]",
           "Chunk index: <b>3</b>",
           0.3501
          ],
          [
           "Jensen-Shannon distance for <b>housing_loan</b>",
           "<b style=\"color:#00c8e5;line-height:60px\">Analysis</b>",
           "<span style=\"color:#AD0000\">⚠ <b>Drift detected</b></span>",
           "[8792:10989]",
           "Chunk index: <b>4</b>",
           0.172
          ],
          [
           "Jensen-Shannon distance for <b>housing_loan</b>",
           "<b style=\"color:#00c8e5;line-height:60px\">Analysis</b>",
           "<span style=\"color:#AD0000\">⚠ <b>Drift detected</b></span>",
           "[10990:13187]",
           "Chunk index: <b>5</b>",
           0.219
          ],
          [
           "Jensen-Shannon distance for <b>housing_loan</b>",
           "<b style=\"color:#00c8e5;line-height:60px\">Analysis</b>",
           "",
           "[13188:15385]",
           "Chunk index: <b>6</b>",
           0.0057
          ],
          [
           "Jensen-Shannon distance for <b>housing_loan</b>",
           "<b style=\"color:#00c8e5;line-height:60px\">Analysis</b>",
           "",
           "[15386:17583]",
           "Chunk index: <b>7</b>",
           0.0349
          ],
          [
           "Jensen-Shannon distance for <b>housing_loan</b>",
           "<b style=\"color:#00c8e5;line-height:60px\">Analysis</b>",
           "<span style=\"color:#AD0000\">⚠ <b>Drift detected</b></span>",
           "[17584:19781]",
           "Chunk index: <b>8</b>",
           0.1945
          ],
          [
           "Jensen-Shannon distance for <b>housing_loan</b>",
           "<b style=\"color:#00c8e5;line-height:60px\">Analysis</b>",
           "<span style=\"color:#AD0000\">⚠ <b>Drift detected</b></span>",
           "[19782:21982]",
           "Chunk index: <b>9</b>",
           0.329
          ]
         ],
         "hovertemplate": "%{customdata[1]} &nbsp; &nbsp; %{customdata[2]} <br />Chunk: <b>%{customdata[3]}</b> &nbsp; &nbsp; %{customdata[4]} <br />%{customdata[0]}: <b>%{customdata[5]}</b><b r /><extra></extra>",
         "legendgroup": "metric_analysis",
         "marker": {
          "color": "#00c8e5",
          "size": 5,
          "symbol": "circle"
         },
         "mode": "markers",
         "name": "Method",
         "showlegend": false,
         "type": "scatter",
         "x": [
          10.5,
          11.5,
          12.5,
          13.5,
          14.5,
          15.5,
          16.5,
          17.5,
          18.5,
          19.5
         ],
         "xaxis": "x5",
         "y": [
          0.3277264879394469,
          0.33641801575003766,
          0.3465022379319689,
          0.3501252756446813,
          0.17198257003183776,
          0.2190473809937937,
          0.005724316399095985,
          0.03490608954509846,
          0.19450840966132218,
          0.3290138709885811,
          0.3290138709885811
         ],
         "yaxis": "y5"
        },
        {
         "hoverinfo": "skip",
         "legendgroup": "alert",
         "marker": {
          "color": "#DD4040",
          "size": 8,
          "symbol": "diamond"
         },
         "mode": "markers",
         "name": "Alert",
         "showlegend": false,
         "type": "scatter",
         "x": [
          10.5,
          11.5,
          12.5,
          13.5,
          14.5,
          15.5,
          18.5,
          19.5
         ],
         "xaxis": "x5",
         "y": [
          0.3277264879394469,
          0.33641801575003766,
          0.3465022379319689,
          0.3501252756446813,
          0.17198257003183776,
          0.2190473809937937,
          0.19450840966132218,
          0.3290138709885811
         ],
         "yaxis": "y5"
        },
        {
         "hoverinfo": "skip",
         "legendgroup": "thresh",
         "line": {
          "color": "#DD4040",
          "dash": "dash",
          "width": 2
         },
         "mode": "lines",
         "name": "Threshold",
         "showlegend": false,
         "type": "scatter",
         "x": [
          0,
          1,
          2,
          3,
          4,
          5,
          6,
          7,
          8,
          9,
          0,
          1,
          2,
          3,
          4,
          5,
          6,
          7,
          8,
          9,
          10
         ],
         "xaxis": "x5",
         "y": [
          0.1,
          0.1,
          0.1,
          0.1,
          0.1,
          0.1,
          0.1,
          0.1,
          0.1,
          0.1,
          0.1,
          0.1,
          0.1,
          0.1,
          0.1,
          0.1,
          0.1,
          0.1,
          0.1,
          0.1,
          0.1
         ],
         "yaxis": "y5"
        },
        {
         "hoverinfo": "skip",
         "legendgroup": "thresh",
         "line": {
          "color": "#DD4040",
          "dash": "dash",
          "width": 2
         },
         "mode": "lines",
         "name": "Threshold",
         "showlegend": false,
         "type": "scatter",
         "x": [
          10,
          11,
          12,
          13,
          14,
          15,
          16,
          17,
          18,
          19,
          20
         ],
         "xaxis": "x5",
         "y": [
          0.1,
          0.1,
          0.1,
          0.1,
          0.1,
          0.1,
          0.1,
          0.1,
          0.1,
          0.1,
          0.1
         ],
         "yaxis": "y5"
        },
        {
         "hoverinfo": "skip",
         "legendgroup": "metric_reference",
         "line": {
          "color": "#00c8e5",
          "shape": "hv",
          "width": 2
         },
         "mode": "lines",
         "name": "Method",
         "showlegend": false,
         "type": "scatter",
         "x": [
          0,
          1,
          2,
          3,
          4,
          5,
          6,
          7,
          8,
          9,
          0,
          1,
          2,
          3,
          4,
          5,
          6,
          7,
          8,
          9,
          10
         ],
         "xaxis": "x6",
         "y": [
          0.28755929746031794,
          0.22958292771110428,
          0.004436094629085896,
          0.3627393090426681,
          0.059930196014577,
          0.07740420618931704,
          0.2692005272767303,
          0.10375040562222904,
          0.2797930582132056,
          0.3444271883319602,
          0.28755929746031794,
          0.22958292771110428,
          0.004436094629085896,
          0.3627393090426681,
          0.059930196014577,
          0.07740420618931704,
          0.2692005272767303,
          0.10375040562222904,
          0.2797930582132056,
          0.3444271883319602,
          0.3444271883319602
         ],
         "yaxis": "y6"
        },
        {
         "customdata": [
          [
           "Kolmogorov-Smirnov statistic for <b>housing_loan</b>",
           "<b style=\"color:#00c8e5;line-height:60px\">Reference</b>",
           "",
           "[0:4520]",
           "Chunk index: <b>0</b>",
           0.2876
          ],
          [
           "Kolmogorov-Smirnov statistic for <b>housing_loan</b>",
           "<b style=\"color:#00c8e5;line-height:60px\">Reference</b>",
           "",
           "[4521:9041]",
           "Chunk index: <b>1</b>",
           0.2296
          ],
          [
           "Kolmogorov-Smirnov statistic for <b>housing_loan</b>",
           "<b style=\"color:#00c8e5;line-height:60px\">Reference</b>",
           "",
           "[9042:13562]",
           "Chunk index: <b>2</b>",
           0.0044
          ],
          [
           "Kolmogorov-Smirnov statistic for <b>housing_loan</b>",
           "<b style=\"color:#00c8e5;line-height:60px\">Reference</b>",
           "",
           "[13563:18083]",
           "Chunk index: <b>3</b>",
           0.3627
          ],
          [
           "Kolmogorov-Smirnov statistic for <b>housing_loan</b>",
           "<b style=\"color:#00c8e5;line-height:60px\">Reference</b>",
           "",
           "[18084:22604]",
           "Chunk index: <b>4</b>",
           0.0599
          ],
          [
           "Kolmogorov-Smirnov statistic for <b>housing_loan</b>",
           "<b style=\"color:#00c8e5;line-height:60px\">Reference</b>",
           "",
           "[22605:27125]",
           "Chunk index: <b>5</b>",
           0.0774
          ],
          [
           "Kolmogorov-Smirnov statistic for <b>housing_loan</b>",
           "<b style=\"color:#00c8e5;line-height:60px\">Reference</b>",
           "",
           "[27126:31646]",
           "Chunk index: <b>6</b>",
           0.2692
          ],
          [
           "Kolmogorov-Smirnov statistic for <b>housing_loan</b>",
           "<b style=\"color:#00c8e5;line-height:60px\">Reference</b>",
           "",
           "[31647:36167]",
           "Chunk index: <b>7</b>",
           0.1038
          ],
          [
           "Kolmogorov-Smirnov statistic for <b>housing_loan</b>",
           "<b style=\"color:#00c8e5;line-height:60px\">Reference</b>",
           "",
           "[36168:40688]",
           "Chunk index: <b>8</b>",
           0.2798
          ],
          [
           "Kolmogorov-Smirnov statistic for <b>housing_loan</b>",
           "<b style=\"color:#00c8e5;line-height:60px\">Reference</b>",
           "",
           "[40689:45210]",
           "Chunk index: <b>9</b>",
           0.3444
          ],
          [
           "Kolmogorov-Smirnov statistic for <b>housing_loan</b>",
           "<b style=\"color:#00c8e5;line-height:60px\">Reference</b>",
           "",
           "[0:4520]",
           "Chunk index: <b>0</b>",
           0.2876
          ],
          [
           "Kolmogorov-Smirnov statistic for <b>housing_loan</b>",
           "<b style=\"color:#00c8e5;line-height:60px\">Reference</b>",
           "",
           "[4521:9041]",
           "Chunk index: <b>1</b>",
           0.2296
          ],
          [
           "Kolmogorov-Smirnov statistic for <b>housing_loan</b>",
           "<b style=\"color:#00c8e5;line-height:60px\">Reference</b>",
           "",
           "[9042:13562]",
           "Chunk index: <b>2</b>",
           0.0044
          ],
          [
           "Kolmogorov-Smirnov statistic for <b>housing_loan</b>",
           "<b style=\"color:#00c8e5;line-height:60px\">Reference</b>",
           "",
           "[13563:18083]",
           "Chunk index: <b>3</b>",
           0.3627
          ],
          [
           "Kolmogorov-Smirnov statistic for <b>housing_loan</b>",
           "<b style=\"color:#00c8e5;line-height:60px\">Reference</b>",
           "",
           "[18084:22604]",
           "Chunk index: <b>4</b>",
           0.0599
          ],
          [
           "Kolmogorov-Smirnov statistic for <b>housing_loan</b>",
           "<b style=\"color:#00c8e5;line-height:60px\">Reference</b>",
           "",
           "[22605:27125]",
           "Chunk index: <b>5</b>",
           0.0774
          ],
          [
           "Kolmogorov-Smirnov statistic for <b>housing_loan</b>",
           "<b style=\"color:#00c8e5;line-height:60px\">Reference</b>",
           "",
           "[27126:31646]",
           "Chunk index: <b>6</b>",
           0.2692
          ],
          [
           "Kolmogorov-Smirnov statistic for <b>housing_loan</b>",
           "<b style=\"color:#00c8e5;line-height:60px\">Reference</b>",
           "",
           "[31647:36167]",
           "Chunk index: <b>7</b>",
           0.1038
          ],
          [
           "Kolmogorov-Smirnov statistic for <b>housing_loan</b>",
           "<b style=\"color:#00c8e5;line-height:60px\">Reference</b>",
           "",
           "[36168:40688]",
           "Chunk index: <b>8</b>",
           0.2798
          ],
          [
           "Kolmogorov-Smirnov statistic for <b>housing_loan</b>",
           "<b style=\"color:#00c8e5;line-height:60px\">Reference</b>",
           "",
           "[40689:45210]",
           "Chunk index: <b>9</b>",
           0.3444
          ]
         ],
         "hovertemplate": "%{customdata[1]} &nbsp; &nbsp; %{customdata[2]} <br />Chunk: <b>%{customdata[3]}</b> &nbsp; &nbsp; %{customdata[4]} <br />%{customdata[0]}: <b>%{customdata[5]}</b><b r /><extra></extra>",
         "legendgroup": "metric_reference",
         "marker": {
          "color": "#00c8e5",
          "size": 5,
          "symbol": "circle"
         },
         "mode": "markers",
         "name": "Method",
         "showlegend": false,
         "type": "scatter",
         "x": [
          0.5,
          1.5,
          2.5,
          3.5,
          4.5,
          5.5,
          6.5,
          7.5,
          8.5,
          4.5,
          0.5,
          1.5,
          2.5,
          3.5,
          4.5,
          5.5,
          6.5,
          7.5,
          8.5,
          9.5
         ],
         "xaxis": "x6",
         "y": [
          0.28755929746031794,
          0.22958292771110428,
          0.004436094629085896,
          0.3627393090426681,
          0.059930196014577,
          0.07740420618931704,
          0.2692005272767303,
          0.10375040562222904,
          0.2797930582132056,
          0.3444271883319602,
          0.28755929746031794,
          0.22958292771110428,
          0.004436094629085896,
          0.3627393090426681,
          0.059930196014577,
          0.07740420618931704,
          0.2692005272767303,
          0.10375040562222904,
          0.2797930582132056,
          0.3444271883319602,
          0.3444271883319602
         ],
         "yaxis": "y6"
        },
        {
         "hoverinfo": "skip",
         "legendgroup": "metric_analysis",
         "line": {
          "color": "#00c8e5",
          "shape": "hv",
          "width": 2
         },
         "mode": "lines",
         "name": "Method",
         "showlegend": false,
         "type": "scatter",
         "x": [
          10,
          11,
          12,
          13,
          14,
          15,
          16,
          17,
          18,
          19,
          20
         ],
         "xaxis": "x6",
         "y": [
          0.33588156424927307,
          0.3427059500545506,
          0.35044025396719847,
          0.3531700082893095,
          0.20097011909922552,
          0.25374536932670505,
          0.0067026031756586835,
          0.04061313840759884,
          0.22644782610559494,
          0.3681962000558922,
          0.3681962000558922
         ],
         "yaxis": "y6"
        },
        {
         "customdata": [
          [
           "Kolmogorov-Smirnov statistic for <b>housing_loan</b>",
           "<b style=\"color:#00c8e5;line-height:60px\">Analysis</b>",
           "",
           "[0:2197]",
           "Chunk index: <b>0</b>",
           0.3359
          ],
          [
           "Kolmogorov-Smirnov statistic for <b>housing_loan</b>",
           "<b style=\"color:#00c8e5;line-height:60px\">Analysis</b>",
           "",
           "[2198:4395]",
           "Chunk index: <b>1</b>",
           0.3427
          ],
          [
           "Kolmogorov-Smirnov statistic for <b>housing_loan</b>",
           "<b style=\"color:#00c8e5;line-height:60px\">Analysis</b>",
           "",
           "[4396:6593]",
           "Chunk index: <b>2</b>",
           0.3504
          ],
          [
           "Kolmogorov-Smirnov statistic for <b>housing_loan</b>",
           "<b style=\"color:#00c8e5;line-height:60px\">Analysis</b>",
           "",
           "[6594:8791]",
           "Chunk index: <b>3</b>",
           0.3532
          ],
          [
           "Kolmogorov-Smirnov statistic for <b>housing_loan</b>",
           "<b style=\"color:#00c8e5;line-height:60px\">Analysis</b>",
           "",
           "[8792:10989]",
           "Chunk index: <b>4</b>",
           0.201
          ],
          [
           "Kolmogorov-Smirnov statistic for <b>housing_loan</b>",
           "<b style=\"color:#00c8e5;line-height:60px\">Analysis</b>",
           "",
           "[10990:13187]",
           "Chunk index: <b>5</b>",
           0.2537
          ],
          [
           "Kolmogorov-Smirnov statistic for <b>housing_loan</b>",
           "<b style=\"color:#00c8e5;line-height:60px\">Analysis</b>",
           "",
           "[13188:15385]",
           "Chunk index: <b>6</b>",
           0.0067
          ],
          [
           "Kolmogorov-Smirnov statistic for <b>housing_loan</b>",
           "<b style=\"color:#00c8e5;line-height:60px\">Analysis</b>",
           "",
           "[15386:17583]",
           "Chunk index: <b>7</b>",
           0.0406
          ],
          [
           "Kolmogorov-Smirnov statistic for <b>housing_loan</b>",
           "<b style=\"color:#00c8e5;line-height:60px\">Analysis</b>",
           "",
           "[17584:19781]",
           "Chunk index: <b>8</b>",
           0.2264
          ],
          [
           "Kolmogorov-Smirnov statistic for <b>housing_loan</b>",
           "<b style=\"color:#00c8e5;line-height:60px\">Analysis</b>",
           "",
           "[19782:21982]",
           "Chunk index: <b>9</b>",
           0.3682
          ]
         ],
         "hovertemplate": "%{customdata[1]} &nbsp; &nbsp; %{customdata[2]} <br />Chunk: <b>%{customdata[3]}</b> &nbsp; &nbsp; %{customdata[4]} <br />%{customdata[0]}: <b>%{customdata[5]}</b><b r /><extra></extra>",
         "legendgroup": "metric_analysis",
         "marker": {
          "color": "#00c8e5",
          "size": 5,
          "symbol": "circle"
         },
         "mode": "markers",
         "name": "Method",
         "showlegend": false,
         "type": "scatter",
         "x": [
          10.5,
          11.5,
          12.5,
          13.5,
          14.5,
          15.5,
          16.5,
          17.5,
          18.5,
          19.5
         ],
         "xaxis": "x6",
         "y": [
          0.33588156424927307,
          0.3427059500545506,
          0.35044025396719847,
          0.3531700082893095,
          0.20097011909922552,
          0.25374536932670505,
          0.0067026031756586835,
          0.04061313840759884,
          0.22644782610559494,
          0.3681962000558922,
          0.3681962000558922
         ],
         "yaxis": "y6"
        },
        {
         "hoverinfo": "skip",
         "legendgroup": "alert",
         "marker": {
          "color": "#DD4040",
          "size": 8,
          "symbol": "diamond"
         },
         "mode": "markers",
         "name": "Alert",
         "showlegend": false,
         "type": "scatter",
         "x": [],
         "xaxis": "x6",
         "y": [],
         "yaxis": "y6"
        },
        {
         "hoverinfo": "skip",
         "legendgroup": "thresh",
         "line": {
          "color": "#DD4040",
          "dash": "dash",
          "width": 2
         },
         "mode": "lines",
         "name": "Threshold",
         "showlegend": false,
         "type": "scatter",
         "x": [
          0,
          1,
          2,
          3,
          4,
          5,
          6,
          7,
          8,
          9,
          0,
          1,
          2,
          3,
          4,
          5,
          6,
          7,
          8,
          9,
          10
         ],
         "xaxis": "x6",
         "y": [
          0.5682802116056856,
          0.5682802116056856,
          0.5682802116056856,
          0.5682802116056856,
          0.5682802116056856,
          0.5682802116056856,
          0.5682802116056856,
          0.5682802116056856,
          0.5682802116056856,
          0.5682802116056856,
          0.5682802116056856,
          0.5682802116056856,
          0.5682802116056856,
          0.5682802116056856,
          0.5682802116056856,
          0.5682802116056856,
          0.5682802116056856,
          0.5682802116056856,
          0.5682802116056856,
          0.5682802116056856,
          0.5682802116056856
         ],
         "yaxis": "y6"
        },
        {
         "hoverinfo": "skip",
         "legendgroup": "thresh",
         "line": {
          "color": "#DD4040",
          "dash": "dash",
          "width": 2
         },
         "mode": "lines",
         "name": "Threshold",
         "showlegend": false,
         "type": "scatter",
         "x": [
          10,
          11,
          12,
          13,
          14,
          15,
          16,
          17,
          18,
          19,
          20
         ],
         "xaxis": "x6",
         "y": [
          0.5682802116056856,
          0.5682802116056856,
          0.5682802116056856,
          0.5682802116056856,
          0.5682802116056856,
          0.5682802116056856,
          0.5682802116056856,
          0.5682802116056856,
          0.5682802116056856,
          0.5682802116056856,
          0.5682802116056856
         ],
         "yaxis": "y6"
        },
        {
         "hoverinfo": "skip",
         "legendgroup": "metric_reference",
         "line": {
          "color": "#00c8e5",
          "shape": "hv",
          "width": 2
         },
         "mode": "lines",
         "name": "Method",
         "showlegend": false,
         "type": "scatter",
         "x": [
          0,
          1,
          2,
          3,
          4,
          5,
          6,
          7,
          8,
          9,
          0,
          1,
          2,
          3,
          4,
          5,
          6,
          7,
          8,
          9,
          10
         ],
         "xaxis": "x7",
         "y": [
          244.89365490360922,
          196.6678517393353,
          119.64377852741235,
          133.0400541505776,
          116.65704647955583,
          0.0006140620727514059,
          0.024678824213466507,
          185.18412987531013,
          3454.829146542588,
          311.9446073265275,
          244.89365490360922,
          196.6678517393353,
          119.64377852741235,
          133.0400541505776,
          116.65704647955583,
          0.0006140620727514059,
          0.024678824213466507,
          185.18412987531013,
          3454.829146542588,
          311.9446073265275,
          311.9446073265275
         ],
         "yaxis": "y7"
        },
        {
         "customdata": [
          [
           "Chi2 statistic for <b>subscription</b>",
           "<b style=\"color:#00c8e5;line-height:60px\">Reference</b>",
           "<span style=\"color:#AD0000\">⚠ <b>Drift detected</b></span>",
           "[0:4520]",
           "Chunk index: <b>0</b>",
           244.8937
          ],
          [
           "Chi2 statistic for <b>subscription</b>",
           "<b style=\"color:#00c8e5;line-height:60px\">Reference</b>",
           "<span style=\"color:#AD0000\">⚠ <b>Drift detected</b></span>",
           "[4521:9041]",
           "Chunk index: <b>1</b>",
           196.6679
          ],
          [
           "Chi2 statistic for <b>subscription</b>",
           "<b style=\"color:#00c8e5;line-height:60px\">Reference</b>",
           "<span style=\"color:#AD0000\">⚠ <b>Drift detected</b></span>",
           "[9042:13562]",
           "Chunk index: <b>2</b>",
           119.6438
          ],
          [
           "Chi2 statistic for <b>subscription</b>",
           "<b style=\"color:#00c8e5;line-height:60px\">Reference</b>",
           "<span style=\"color:#AD0000\">⚠ <b>Drift detected</b></span>",
           "[13563:18083]",
           "Chunk index: <b>3</b>",
           133.0401
          ],
          [
           "Chi2 statistic for <b>subscription</b>",
           "<b style=\"color:#00c8e5;line-height:60px\">Reference</b>",
           "<span style=\"color:#AD0000\">⚠ <b>Drift detected</b></span>",
           "[18084:22604]",
           "Chunk index: <b>4</b>",
           116.657
          ],
          [
           "Chi2 statistic for <b>subscription</b>",
           "<b style=\"color:#00c8e5;line-height:60px\">Reference</b>",
           "",
           "[22605:27125]",
           "Chunk index: <b>5</b>",
           0.0006
          ],
          [
           "Chi2 statistic for <b>subscription</b>",
           "<b style=\"color:#00c8e5;line-height:60px\">Reference</b>",
           "",
           "[27126:31646]",
           "Chunk index: <b>6</b>",
           0.0247
          ],
          [
           "Chi2 statistic for <b>subscription</b>",
           "<b style=\"color:#00c8e5;line-height:60px\">Reference</b>",
           "<span style=\"color:#AD0000\">⚠ <b>Drift detected</b></span>",
           "[31647:36167]",
           "Chunk index: <b>7</b>",
           185.1841
          ],
          [
           "Chi2 statistic for <b>subscription</b>",
           "<b style=\"color:#00c8e5;line-height:60px\">Reference</b>",
           "<span style=\"color:#AD0000\">⚠ <b>Drift detected</b></span>",
           "[36168:40688]",
           "Chunk index: <b>8</b>",
           3454.8291
          ],
          [
           "Chi2 statistic for <b>subscription</b>",
           "<b style=\"color:#00c8e5;line-height:60px\">Reference</b>",
           "<span style=\"color:#AD0000\">⚠ <b>Drift detected</b></span>",
           "[40689:45210]",
           "Chunk index: <b>9</b>",
           311.9446
          ],
          [
           "Chi2 statistic for <b>subscription</b>",
           "<b style=\"color:#00c8e5;line-height:60px\">Reference</b>",
           "<span style=\"color:#AD0000\">⚠ <b>Drift detected</b></span>",
           "[0:4520]",
           "Chunk index: <b>0</b>",
           244.8937
          ],
          [
           "Chi2 statistic for <b>subscription</b>",
           "<b style=\"color:#00c8e5;line-height:60px\">Reference</b>",
           "<span style=\"color:#AD0000\">⚠ <b>Drift detected</b></span>",
           "[4521:9041]",
           "Chunk index: <b>1</b>",
           196.6679
          ],
          [
           "Chi2 statistic for <b>subscription</b>",
           "<b style=\"color:#00c8e5;line-height:60px\">Reference</b>",
           "<span style=\"color:#AD0000\">⚠ <b>Drift detected</b></span>",
           "[9042:13562]",
           "Chunk index: <b>2</b>",
           119.6438
          ],
          [
           "Chi2 statistic for <b>subscription</b>",
           "<b style=\"color:#00c8e5;line-height:60px\">Reference</b>",
           "<span style=\"color:#AD0000\">⚠ <b>Drift detected</b></span>",
           "[13563:18083]",
           "Chunk index: <b>3</b>",
           133.0401
          ],
          [
           "Chi2 statistic for <b>subscription</b>",
           "<b style=\"color:#00c8e5;line-height:60px\">Reference</b>",
           "<span style=\"color:#AD0000\">⚠ <b>Drift detected</b></span>",
           "[18084:22604]",
           "Chunk index: <b>4</b>",
           116.657
          ],
          [
           "Chi2 statistic for <b>subscription</b>",
           "<b style=\"color:#00c8e5;line-height:60px\">Reference</b>",
           "",
           "[22605:27125]",
           "Chunk index: <b>5</b>",
           0.0006
          ],
          [
           "Chi2 statistic for <b>subscription</b>",
           "<b style=\"color:#00c8e5;line-height:60px\">Reference</b>",
           "",
           "[27126:31646]",
           "Chunk index: <b>6</b>",
           0.0247
          ],
          [
           "Chi2 statistic for <b>subscription</b>",
           "<b style=\"color:#00c8e5;line-height:60px\">Reference</b>",
           "<span style=\"color:#AD0000\">⚠ <b>Drift detected</b></span>",
           "[31647:36167]",
           "Chunk index: <b>7</b>",
           185.1841
          ],
          [
           "Chi2 statistic for <b>subscription</b>",
           "<b style=\"color:#00c8e5;line-height:60px\">Reference</b>",
           "<span style=\"color:#AD0000\">⚠ <b>Drift detected</b></span>",
           "[36168:40688]",
           "Chunk index: <b>8</b>",
           3454.8291
          ],
          [
           "Chi2 statistic for <b>subscription</b>",
           "<b style=\"color:#00c8e5;line-height:60px\">Reference</b>",
           "<span style=\"color:#AD0000\">⚠ <b>Drift detected</b></span>",
           "[40689:45210]",
           "Chunk index: <b>9</b>",
           311.9446
          ]
         ],
         "hovertemplate": "%{customdata[1]} &nbsp; &nbsp; %{customdata[2]} <br />Chunk: <b>%{customdata[3]}</b> &nbsp; &nbsp; %{customdata[4]} <br />%{customdata[0]}: <b>%{customdata[5]}</b><b r /><extra></extra>",
         "legendgroup": "metric_reference",
         "marker": {
          "color": "#00c8e5",
          "size": 5,
          "symbol": "circle"
         },
         "mode": "markers",
         "name": "Method",
         "showlegend": false,
         "type": "scatter",
         "x": [
          0.5,
          1.5,
          2.5,
          3.5,
          4.5,
          5.5,
          6.5,
          7.5,
          8.5,
          4.5,
          0.5,
          1.5,
          2.5,
          3.5,
          4.5,
          5.5,
          6.5,
          7.5,
          8.5,
          9.5
         ],
         "xaxis": "x7",
         "y": [
          244.89365490360922,
          196.6678517393353,
          119.64377852741235,
          133.0400541505776,
          116.65704647955583,
          0.0006140620727514059,
          0.024678824213466507,
          185.18412987531013,
          3454.829146542588,
          311.9446073265275,
          244.89365490360922,
          196.6678517393353,
          119.64377852741235,
          133.0400541505776,
          116.65704647955583,
          0.0006140620727514059,
          0.024678824213466507,
          185.18412987531013,
          3454.829146542588,
          311.9446073265275,
          311.9446073265275
         ],
         "yaxis": "y7"
        },
        {
         "hoverinfo": "skip",
         "legendgroup": "metric_analysis",
         "line": {
          "color": "#00c8e5",
          "shape": "hv",
          "width": 2
         },
         "mode": "lines",
         "name": "Method",
         "showlegend": false,
         "type": "scatter",
         "x": [
          10,
          11,
          12,
          13,
          14,
          15,
          16,
          17,
          18,
          19,
          20
         ],
         "xaxis": "x7",
         "y": [
          188.99486072317367,
          133.21115575573123,
          149.0567019895382,
          115.40264404083607,
          102.90537921340895,
          96.27929816257966,
          50.40622716558198,
          65.44825533709358,
          67.60503213251685,
          52.55670621171524,
          52.55670621171524
         ],
         "yaxis": "y7"
        },
        {
         "customdata": [
          [
           "Chi2 statistic for <b>subscription</b>",
           "<b style=\"color:#00c8e5;line-height:60px\">Analysis</b>",
           "<span style=\"color:#AD0000\">⚠ <b>Drift detected</b></span>",
           "[0:2197]",
           "Chunk index: <b>0</b>",
           188.9949
          ],
          [
           "Chi2 statistic for <b>subscription</b>",
           "<b style=\"color:#00c8e5;line-height:60px\">Analysis</b>",
           "<span style=\"color:#AD0000\">⚠ <b>Drift detected</b></span>",
           "[2198:4395]",
           "Chunk index: <b>1</b>",
           133.2112
          ],
          [
           "Chi2 statistic for <b>subscription</b>",
           "<b style=\"color:#00c8e5;line-height:60px\">Analysis</b>",
           "<span style=\"color:#AD0000\">⚠ <b>Drift detected</b></span>",
           "[4396:6593]",
           "Chunk index: <b>2</b>",
           149.0567
          ],
          [
           "Chi2 statistic for <b>subscription</b>",
           "<b style=\"color:#00c8e5;line-height:60px\">Analysis</b>",
           "<span style=\"color:#AD0000\">⚠ <b>Drift detected</b></span>",
           "[6594:8791]",
           "Chunk index: <b>3</b>",
           115.4026
          ],
          [
           "Chi2 statistic for <b>subscription</b>",
           "<b style=\"color:#00c8e5;line-height:60px\">Analysis</b>",
           "<span style=\"color:#AD0000\">⚠ <b>Drift detected</b></span>",
           "[8792:10989]",
           "Chunk index: <b>4</b>",
           102.9054
          ],
          [
           "Chi2 statistic for <b>subscription</b>",
           "<b style=\"color:#00c8e5;line-height:60px\">Analysis</b>",
           "<span style=\"color:#AD0000\">⚠ <b>Drift detected</b></span>",
           "[10990:13187]",
           "Chunk index: <b>5</b>",
           96.2793
          ],
          [
           "Chi2 statistic for <b>subscription</b>",
           "<b style=\"color:#00c8e5;line-height:60px\">Analysis</b>",
           "<span style=\"color:#AD0000\">⚠ <b>Drift detected</b></span>",
           "[13188:15385]",
           "Chunk index: <b>6</b>",
           50.4062
          ],
          [
           "Chi2 statistic for <b>subscription</b>",
           "<b style=\"color:#00c8e5;line-height:60px\">Analysis</b>",
           "<span style=\"color:#AD0000\">⚠ <b>Drift detected</b></span>",
           "[15386:17583]",
           "Chunk index: <b>7</b>",
           65.4483
          ],
          [
           "Chi2 statistic for <b>subscription</b>",
           "<b style=\"color:#00c8e5;line-height:60px\">Analysis</b>",
           "<span style=\"color:#AD0000\">⚠ <b>Drift detected</b></span>",
           "[17584:19781]",
           "Chunk index: <b>8</b>",
           67.605
          ],
          [
           "Chi2 statistic for <b>subscription</b>",
           "<b style=\"color:#00c8e5;line-height:60px\">Analysis</b>",
           "<span style=\"color:#AD0000\">⚠ <b>Drift detected</b></span>",
           "[19782:21982]",
           "Chunk index: <b>9</b>",
           52.5567
          ]
         ],
         "hovertemplate": "%{customdata[1]} &nbsp; &nbsp; %{customdata[2]} <br />Chunk: <b>%{customdata[3]}</b> &nbsp; &nbsp; %{customdata[4]} <br />%{customdata[0]}: <b>%{customdata[5]}</b><b r /><extra></extra>",
         "legendgroup": "metric_analysis",
         "marker": {
          "color": "#00c8e5",
          "size": 5,
          "symbol": "circle"
         },
         "mode": "markers",
         "name": "Method",
         "showlegend": false,
         "type": "scatter",
         "x": [
          10.5,
          11.5,
          12.5,
          13.5,
          14.5,
          15.5,
          16.5,
          17.5,
          18.5,
          19.5
         ],
         "xaxis": "x7",
         "y": [
          188.99486072317367,
          133.21115575573123,
          149.0567019895382,
          115.40264404083607,
          102.90537921340895,
          96.27929816257966,
          50.40622716558198,
          65.44825533709358,
          67.60503213251685,
          52.55670621171524,
          52.55670621171524
         ],
         "yaxis": "y7"
        },
        {
         "hoverinfo": "skip",
         "legendgroup": "alert",
         "marker": {
          "color": "#DD4040",
          "size": 8,
          "symbol": "diamond"
         },
         "mode": "markers",
         "name": "Alert",
         "showlegend": false,
         "type": "scatter",
         "x": [
          10.5,
          11.5,
          12.5,
          13.5,
          14.5,
          15.5,
          16.5,
          17.5,
          18.5,
          19.5
         ],
         "xaxis": "x7",
         "y": [
          188.99486072317367,
          133.21115575573123,
          149.0567019895382,
          115.40264404083607,
          102.90537921340895,
          96.27929816257966,
          50.40622716558198,
          65.44825533709358,
          67.60503213251685,
          52.55670621171524
         ],
         "yaxis": "y7"
        },
        {
         "hoverinfo": "skip",
         "legendgroup": "thresh",
         "line": {
          "color": "#DD4040",
          "dash": "dash",
          "width": 2
         },
         "mode": "lines",
         "name": "Threshold",
         "showlegend": false,
         "type": "scatter",
         "x": [
          0,
          1,
          2,
          3,
          4,
          5,
          6,
          7,
          8,
          9,
          0,
          1,
          2,
          3,
          4,
          5,
          6,
          7,
          8,
          9,
          10
         ],
         "xaxis": "x7",
         "y": [
          1,
          null,
          null,
          null,
          null,
          null,
          null,
          null,
          null,
          null,
          1,
          null,
          null,
          null,
          null,
          null,
          null,
          null,
          null,
          null,
          null
         ],
         "yaxis": "y7"
        },
        {
         "hoverinfo": "skip",
         "legendgroup": "thresh",
         "line": {
          "color": "#DD4040",
          "dash": "dash",
          "width": 2
         },
         "mode": "lines",
         "name": "Threshold",
         "showlegend": false,
         "type": "scatter",
         "x": [
          0,
          1,
          2,
          3,
          4,
          5,
          6,
          7,
          8,
          9,
          0,
          1,
          2,
          3,
          4,
          5,
          6,
          7,
          8,
          9,
          10
         ],
         "xaxis": "x7",
         "y": [
          0,
          null,
          null,
          null,
          null,
          null,
          null,
          null,
          null,
          null,
          0,
          null,
          null,
          null,
          null,
          null,
          null,
          null,
          null,
          null,
          null
         ],
         "yaxis": "y7"
        },
        {
         "hoverinfo": "skip",
         "legendgroup": "metric_reference",
         "line": {
          "color": "#00c8e5",
          "shape": "hv",
          "width": 2
         },
         "mode": "lines",
         "name": "Method",
         "showlegend": false,
         "type": "scatter",
         "x": [
          0,
          1,
          2,
          3,
          4,
          5,
          6,
          7,
          8,
          9,
          0,
          1,
          2,
          3,
          4,
          5,
          6,
          7,
          8,
          9,
          10
         ],
         "xaxis": "x8",
         "y": [
          0.12303699219961882,
          0.10758404148088875,
          0.08060852815335802,
          0.08561577136587198,
          0.07946678965881927,
          0.0003247492380441544,
          0.0011996377062795413,
          0.08303402944665636,
          0.3145365660400015,
          0.14376631721090397,
          0.12303699219961882,
          0.10758404148088875,
          0.08060852815335802,
          0.08561577136587198,
          0.07946678965881927,
          0.0003247492380441544,
          0.0011996377062795413,
          0.08303402944665636,
          0.3145365660400015,
          0.14376631721090397,
          0.14376631721090397
         ],
         "yaxis": "y8"
        },
        {
         "customdata": [
          [
           "Jensen-Shannon distance for <b>subscription</b>",
           "<b style=\"color:#00c8e5;line-height:60px\">Reference</b>",
           "<span style=\"color:#AD0000\">⚠ <b>Drift detected</b></span>",
           "[0:4520]",
           "Chunk index: <b>0</b>",
           0.123
          ],
          [
           "Jensen-Shannon distance for <b>subscription</b>",
           "<b style=\"color:#00c8e5;line-height:60px\">Reference</b>",
           "<span style=\"color:#AD0000\">⚠ <b>Drift detected</b></span>",
           "[4521:9041]",
           "Chunk index: <b>1</b>",
           0.1076
          ],
          [
           "Jensen-Shannon distance for <b>subscription</b>",
           "<b style=\"color:#00c8e5;line-height:60px\">Reference</b>",
           "",
           "[9042:13562]",
           "Chunk index: <b>2</b>",
           0.0806
          ],
          [
           "Jensen-Shannon distance for <b>subscription</b>",
           "<b style=\"color:#00c8e5;line-height:60px\">Reference</b>",
           "",
           "[13563:18083]",
           "Chunk index: <b>3</b>",
           0.0856
          ],
          [
           "Jensen-Shannon distance for <b>subscription</b>",
           "<b style=\"color:#00c8e5;line-height:60px\">Reference</b>",
           "",
           "[18084:22604]",
           "Chunk index: <b>4</b>",
           0.0795
          ],
          [
           "Jensen-Shannon distance for <b>subscription</b>",
           "<b style=\"color:#00c8e5;line-height:60px\">Reference</b>",
           "",
           "[22605:27125]",
           "Chunk index: <b>5</b>",
           0.0003
          ],
          [
           "Jensen-Shannon distance for <b>subscription</b>",
           "<b style=\"color:#00c8e5;line-height:60px\">Reference</b>",
           "",
           "[27126:31646]",
           "Chunk index: <b>6</b>",
           0.0012
          ],
          [
           "Jensen-Shannon distance for <b>subscription</b>",
           "<b style=\"color:#00c8e5;line-height:60px\">Reference</b>",
           "",
           "[31647:36167]",
           "Chunk index: <b>7</b>",
           0.083
          ],
          [
           "Jensen-Shannon distance for <b>subscription</b>",
           "<b style=\"color:#00c8e5;line-height:60px\">Reference</b>",
           "<span style=\"color:#AD0000\">⚠ <b>Drift detected</b></span>",
           "[36168:40688]",
           "Chunk index: <b>8</b>",
           0.3145
          ],
          [
           "Jensen-Shannon distance for <b>subscription</b>",
           "<b style=\"color:#00c8e5;line-height:60px\">Reference</b>",
           "<span style=\"color:#AD0000\">⚠ <b>Drift detected</b></span>",
           "[40689:45210]",
           "Chunk index: <b>9</b>",
           0.1438
          ],
          [
           "Jensen-Shannon distance for <b>subscription</b>",
           "<b style=\"color:#00c8e5;line-height:60px\">Reference</b>",
           "<span style=\"color:#AD0000\">⚠ <b>Drift detected</b></span>",
           "[0:4520]",
           "Chunk index: <b>0</b>",
           0.123
          ],
          [
           "Jensen-Shannon distance for <b>subscription</b>",
           "<b style=\"color:#00c8e5;line-height:60px\">Reference</b>",
           "<span style=\"color:#AD0000\">⚠ <b>Drift detected</b></span>",
           "[4521:9041]",
           "Chunk index: <b>1</b>",
           0.1076
          ],
          [
           "Jensen-Shannon distance for <b>subscription</b>",
           "<b style=\"color:#00c8e5;line-height:60px\">Reference</b>",
           "",
           "[9042:13562]",
           "Chunk index: <b>2</b>",
           0.0806
          ],
          [
           "Jensen-Shannon distance for <b>subscription</b>",
           "<b style=\"color:#00c8e5;line-height:60px\">Reference</b>",
           "",
           "[13563:18083]",
           "Chunk index: <b>3</b>",
           0.0856
          ],
          [
           "Jensen-Shannon distance for <b>subscription</b>",
           "<b style=\"color:#00c8e5;line-height:60px\">Reference</b>",
           "",
           "[18084:22604]",
           "Chunk index: <b>4</b>",
           0.0795
          ],
          [
           "Jensen-Shannon distance for <b>subscription</b>",
           "<b style=\"color:#00c8e5;line-height:60px\">Reference</b>",
           "",
           "[22605:27125]",
           "Chunk index: <b>5</b>",
           0.0003
          ],
          [
           "Jensen-Shannon distance for <b>subscription</b>",
           "<b style=\"color:#00c8e5;line-height:60px\">Reference</b>",
           "",
           "[27126:31646]",
           "Chunk index: <b>6</b>",
           0.0012
          ],
          [
           "Jensen-Shannon distance for <b>subscription</b>",
           "<b style=\"color:#00c8e5;line-height:60px\">Reference</b>",
           "",
           "[31647:36167]",
           "Chunk index: <b>7</b>",
           0.083
          ],
          [
           "Jensen-Shannon distance for <b>subscription</b>",
           "<b style=\"color:#00c8e5;line-height:60px\">Reference</b>",
           "<span style=\"color:#AD0000\">⚠ <b>Drift detected</b></span>",
           "[36168:40688]",
           "Chunk index: <b>8</b>",
           0.3145
          ],
          [
           "Jensen-Shannon distance for <b>subscription</b>",
           "<b style=\"color:#00c8e5;line-height:60px\">Reference</b>",
           "<span style=\"color:#AD0000\">⚠ <b>Drift detected</b></span>",
           "[40689:45210]",
           "Chunk index: <b>9</b>",
           0.1438
          ]
         ],
         "hovertemplate": "%{customdata[1]} &nbsp; &nbsp; %{customdata[2]} <br />Chunk: <b>%{customdata[3]}</b> &nbsp; &nbsp; %{customdata[4]} <br />%{customdata[0]}: <b>%{customdata[5]}</b><b r /><extra></extra>",
         "legendgroup": "metric_reference",
         "marker": {
          "color": "#00c8e5",
          "size": 5,
          "symbol": "circle"
         },
         "mode": "markers",
         "name": "Method",
         "showlegend": false,
         "type": "scatter",
         "x": [
          0.5,
          1.5,
          2.5,
          3.5,
          4.5,
          5.5,
          6.5,
          7.5,
          8.5,
          4.5,
          0.5,
          1.5,
          2.5,
          3.5,
          4.5,
          5.5,
          6.5,
          7.5,
          8.5,
          9.5
         ],
         "xaxis": "x8",
         "y": [
          0.12303699219961882,
          0.10758404148088875,
          0.08060852815335802,
          0.08561577136587198,
          0.07946678965881927,
          0.0003247492380441544,
          0.0011996377062795413,
          0.08303402944665636,
          0.3145365660400015,
          0.14376631721090397,
          0.12303699219961882,
          0.10758404148088875,
          0.08060852815335802,
          0.08561577136587198,
          0.07946678965881927,
          0.0003247492380441544,
          0.0011996377062795413,
          0.08303402944665636,
          0.3145365660400015,
          0.14376631721090397,
          0.14376631721090397
         ],
         "yaxis": "y8"
        },
        {
         "hoverinfo": "skip",
         "legendgroup": "metric_analysis",
         "line": {
          "color": "#00c8e5",
          "shape": "hv",
          "width": 2
         },
         "mode": "lines",
         "name": "Method",
         "showlegend": false,
         "type": "scatter",
         "x": [
          10,
          11,
          12,
          13,
          14,
          15,
          16,
          17,
          18,
          19,
          20
         ],
         "xaxis": "x8",
         "y": [
          0.16609582128246522,
          0.13068100370356844,
          0.140705508242148,
          0.11927646894537841,
          0.11110785816863035,
          0.1066966315391069,
          0.07330596980016105,
          0.08500822776116235,
          0.0866097007832159,
          0.07498900274248663,
          0.07498900274248663
         ],
         "yaxis": "y8"
        },
        {
         "customdata": [
          [
           "Jensen-Shannon distance for <b>subscription</b>",
           "<b style=\"color:#00c8e5;line-height:60px\">Analysis</b>",
           "<span style=\"color:#AD0000\">⚠ <b>Drift detected</b></span>",
           "[0:2197]",
           "Chunk index: <b>0</b>",
           0.1661
          ],
          [
           "Jensen-Shannon distance for <b>subscription</b>",
           "<b style=\"color:#00c8e5;line-height:60px\">Analysis</b>",
           "<span style=\"color:#AD0000\">⚠ <b>Drift detected</b></span>",
           "[2198:4395]",
           "Chunk index: <b>1</b>",
           0.1307
          ],
          [
           "Jensen-Shannon distance for <b>subscription</b>",
           "<b style=\"color:#00c8e5;line-height:60px\">Analysis</b>",
           "<span style=\"color:#AD0000\">⚠ <b>Drift detected</b></span>",
           "[4396:6593]",
           "Chunk index: <b>2</b>",
           0.1407
          ],
          [
           "Jensen-Shannon distance for <b>subscription</b>",
           "<b style=\"color:#00c8e5;line-height:60px\">Analysis</b>",
           "<span style=\"color:#AD0000\">⚠ <b>Drift detected</b></span>",
           "[6594:8791]",
           "Chunk index: <b>3</b>",
           0.1193
          ],
          [
           "Jensen-Shannon distance for <b>subscription</b>",
           "<b style=\"color:#00c8e5;line-height:60px\">Analysis</b>",
           "<span style=\"color:#AD0000\">⚠ <b>Drift detected</b></span>",
           "[8792:10989]",
           "Chunk index: <b>4</b>",
           0.1111
          ],
          [
           "Jensen-Shannon distance for <b>subscription</b>",
           "<b style=\"color:#00c8e5;line-height:60px\">Analysis</b>",
           "<span style=\"color:#AD0000\">⚠ <b>Drift detected</b></span>",
           "[10990:13187]",
           "Chunk index: <b>5</b>",
           0.1067
          ],
          [
           "Jensen-Shannon distance for <b>subscription</b>",
           "<b style=\"color:#00c8e5;line-height:60px\">Analysis</b>",
           "",
           "[13188:15385]",
           "Chunk index: <b>6</b>",
           0.0733
          ],
          [
           "Jensen-Shannon distance for <b>subscription</b>",
           "<b style=\"color:#00c8e5;line-height:60px\">Analysis</b>",
           "",
           "[15386:17583]",
           "Chunk index: <b>7</b>",
           0.085
          ],
          [
           "Jensen-Shannon distance for <b>subscription</b>",
           "<b style=\"color:#00c8e5;line-height:60px\">Analysis</b>",
           "",
           "[17584:19781]",
           "Chunk index: <b>8</b>",
           0.0866
          ],
          [
           "Jensen-Shannon distance for <b>subscription</b>",
           "<b style=\"color:#00c8e5;line-height:60px\">Analysis</b>",
           "",
           "[19782:21982]",
           "Chunk index: <b>9</b>",
           0.075
          ]
         ],
         "hovertemplate": "%{customdata[1]} &nbsp; &nbsp; %{customdata[2]} <br />Chunk: <b>%{customdata[3]}</b> &nbsp; &nbsp; %{customdata[4]} <br />%{customdata[0]}: <b>%{customdata[5]}</b><b r /><extra></extra>",
         "legendgroup": "metric_analysis",
         "marker": {
          "color": "#00c8e5",
          "size": 5,
          "symbol": "circle"
         },
         "mode": "markers",
         "name": "Method",
         "showlegend": false,
         "type": "scatter",
         "x": [
          10.5,
          11.5,
          12.5,
          13.5,
          14.5,
          15.5,
          16.5,
          17.5,
          18.5,
          19.5
         ],
         "xaxis": "x8",
         "y": [
          0.16609582128246522,
          0.13068100370356844,
          0.140705508242148,
          0.11927646894537841,
          0.11110785816863035,
          0.1066966315391069,
          0.07330596980016105,
          0.08500822776116235,
          0.0866097007832159,
          0.07498900274248663,
          0.07498900274248663
         ],
         "yaxis": "y8"
        },
        {
         "hoverinfo": "skip",
         "legendgroup": "alert",
         "marker": {
          "color": "#DD4040",
          "size": 8,
          "symbol": "diamond"
         },
         "mode": "markers",
         "name": "Alert",
         "showlegend": false,
         "type": "scatter",
         "x": [
          10.5,
          11.5,
          12.5,
          13.5,
          14.5,
          15.5
         ],
         "xaxis": "x8",
         "y": [
          0.16609582128246522,
          0.13068100370356844,
          0.140705508242148,
          0.11927646894537841,
          0.11110785816863035,
          0.1066966315391069
         ],
         "yaxis": "y8"
        },
        {
         "hoverinfo": "skip",
         "legendgroup": "thresh",
         "line": {
          "color": "#DD4040",
          "dash": "dash",
          "width": 2
         },
         "mode": "lines",
         "name": "Threshold",
         "showlegend": false,
         "type": "scatter",
         "x": [
          0,
          1,
          2,
          3,
          4,
          5,
          6,
          7,
          8,
          9,
          0,
          1,
          2,
          3,
          4,
          5,
          6,
          7,
          8,
          9,
          10
         ],
         "xaxis": "x8",
         "y": [
          0.1,
          0.1,
          0.1,
          0.1,
          0.1,
          0.1,
          0.1,
          0.1,
          0.1,
          0.1,
          0.1,
          0.1,
          0.1,
          0.1,
          0.1,
          0.1,
          0.1,
          0.1,
          0.1,
          0.1,
          0.1
         ],
         "yaxis": "y8"
        },
        {
         "hoverinfo": "skip",
         "legendgroup": "thresh",
         "line": {
          "color": "#DD4040",
          "dash": "dash",
          "width": 2
         },
         "mode": "lines",
         "name": "Threshold",
         "showlegend": false,
         "type": "scatter",
         "x": [
          10,
          11,
          12,
          13,
          14,
          15,
          16,
          17,
          18,
          19,
          20
         ],
         "xaxis": "x8",
         "y": [
          0.1,
          0.1,
          0.1,
          0.1,
          0.1,
          0.1,
          0.1,
          0.1,
          0.1,
          0.1,
          0.1
         ],
         "yaxis": "y8"
        }
       ],
       "layout": {
        "annotations": [
         {
          "font": {
           "size": 16
          },
          "showarrow": false,
          "text": "Jensen-Shannon distance for <b>age</b>",
          "x": 0.5,
          "xanchor": "center",
          "xref": "paper",
          "y": 1,
          "yanchor": "bottom",
          "yref": "paper"
         },
         {
          "font": {
           "size": 16
          },
          "showarrow": false,
          "text": "Kolmogorov-Smirnov statistic for <b>age</b>",
          "x": 0.5,
          "xanchor": "center",
          "xref": "paper",
          "y": 0.8671875,
          "yanchor": "bottom",
          "yref": "paper"
         },
         {
          "font": {
           "size": 16
          },
          "showarrow": false,
          "text": "Jensen-Shannon distance for <b>balance_euros</b>",
          "x": 0.5,
          "xanchor": "center",
          "xref": "paper",
          "y": 0.734375,
          "yanchor": "bottom",
          "yref": "paper"
         },
         {
          "font": {
           "size": 16
          },
          "showarrow": false,
          "text": "Kolmogorov-Smirnov statistic for <b>balance_euros</b>",
          "x": 0.5,
          "xanchor": "center",
          "xref": "paper",
          "y": 0.6015625,
          "yanchor": "bottom",
          "yref": "paper"
         },
         {
          "font": {
           "size": 16
          },
          "showarrow": false,
          "text": "Jensen-Shannon distance for <b>housing_loan</b>",
          "x": 0.5,
          "xanchor": "center",
          "xref": "paper",
          "y": 0.46875,
          "yanchor": "bottom",
          "yref": "paper"
         },
         {
          "font": {
           "size": 16
          },
          "showarrow": false,
          "text": "Kolmogorov-Smirnov statistic for <b>housing_loan</b>",
          "x": 0.5,
          "xanchor": "center",
          "xref": "paper",
          "y": 0.3359375,
          "yanchor": "bottom",
          "yref": "paper"
         },
         {
          "font": {
           "size": 16
          },
          "showarrow": false,
          "text": "Chi2 statistic for <b>subscription</b>",
          "x": 0.5,
          "xanchor": "center",
          "xref": "paper",
          "y": 0.203125,
          "yanchor": "bottom",
          "yref": "paper"
         },
         {
          "font": {
           "size": 16
          },
          "showarrow": false,
          "text": "Jensen-Shannon distance for <b>subscription</b>",
          "x": 0.5,
          "xanchor": "center",
          "xref": "paper",
          "y": 0.0703125,
          "yanchor": "bottom",
          "yref": "paper"
         },
         {
          "showarrow": false,
          "text": "Reference",
          "x": 4.5,
          "xref": "x",
          "xshift": 10,
          "y": 1.01,
          "yref": "y domain"
         },
         {
          "showarrow": false,
          "text": "Analysis",
          "x": 14.5,
          "xref": "x",
          "xshift": 15,
          "y": 1.01,
          "yref": "y domain"
         },
         {
          "showarrow": false,
          "text": "Reference",
          "x": 4.5,
          "xref": "x2",
          "xshift": 10,
          "y": 1.01,
          "yref": "y2 domain"
         },
         {
          "showarrow": false,
          "text": "Analysis",
          "x": 14.5,
          "xref": "x2",
          "xshift": 15,
          "y": 1.01,
          "yref": "y2 domain"
         },
         {
          "showarrow": false,
          "text": "Reference",
          "x": 4.5,
          "xref": "x3",
          "xshift": 10,
          "y": 1.01,
          "yref": "y3 domain"
         },
         {
          "showarrow": false,
          "text": "Analysis",
          "x": 14.5,
          "xref": "x3",
          "xshift": 15,
          "y": 1.01,
          "yref": "y3 domain"
         },
         {
          "showarrow": false,
          "text": "Reference",
          "x": 4.5,
          "xref": "x4",
          "xshift": 10,
          "y": 1.01,
          "yref": "y4 domain"
         },
         {
          "showarrow": false,
          "text": "Analysis",
          "x": 14.5,
          "xref": "x4",
          "xshift": 15,
          "y": 1.01,
          "yref": "y4 domain"
         },
         {
          "showarrow": false,
          "text": "Reference",
          "x": 4.5,
          "xref": "x5",
          "xshift": 10,
          "y": 1.01,
          "yref": "y5 domain"
         },
         {
          "showarrow": false,
          "text": "Analysis",
          "x": 14.5,
          "xref": "x5",
          "xshift": 15,
          "y": 1.01,
          "yref": "y5 domain"
         },
         {
          "showarrow": false,
          "text": "Reference",
          "x": 4.5,
          "xref": "x6",
          "xshift": 10,
          "y": 1.01,
          "yref": "y6 domain"
         },
         {
          "showarrow": false,
          "text": "Analysis",
          "x": 14.5,
          "xref": "x6",
          "xshift": 15,
          "y": 1.01,
          "yref": "y6 domain"
         },
         {
          "showarrow": false,
          "text": "Reference",
          "x": 4.5,
          "xref": "x7",
          "xshift": 10,
          "y": 1.01,
          "yref": "y7 domain"
         },
         {
          "showarrow": false,
          "text": "Analysis",
          "x": 14.5,
          "xref": "x7",
          "xshift": 15,
          "y": 1.01,
          "yref": "y7 domain"
         },
         {
          "showarrow": false,
          "text": "Reference",
          "x": 4.5,
          "xref": "x8",
          "xshift": 10,
          "y": 1.01,
          "yref": "y8 domain"
         },
         {
          "showarrow": false,
          "text": "Analysis",
          "x": 14.5,
          "xref": "x8",
          "xshift": 15,
          "y": 1.01,
          "yref": "y8 domain"
         }
        ],
        "height": 4000,
        "hoverlabel": {
         "bgcolor": "white",
         "font": {
          "size": 14
         }
        },
        "legend": {
         "itemclick": false,
         "itemdoubleclick": false,
         "traceorder": "grouped"
        },
        "paper_bgcolor": "rgba(255,255,255,1)",
        "plot_bgcolor": "rgba(255,255,255,1)",
        "shapes": [
         {
          "layer": "below",
          "line": {
           "color": "#666666",
           "width": 1
          },
          "type": "line",
          "x0": 10,
          "x1": 10,
          "xref": "x",
          "y0": 0,
          "y1": 1,
          "yref": "y domain"
         },
         {
          "layer": "below",
          "line": {
           "color": "#666666",
           "width": 1
          },
          "type": "line",
          "x0": 10,
          "x1": 10,
          "xref": "x",
          "y0": 0,
          "y1": 1,
          "yref": "y domain"
         },
         {
          "layer": "below",
          "line": {
           "color": "#666666",
           "width": 1
          },
          "type": "line",
          "x0": 10,
          "x1": 10,
          "xref": "x2",
          "y0": 0,
          "y1": 1,
          "yref": "y2 domain"
         },
         {
          "layer": "below",
          "line": {
           "color": "#666666",
           "width": 1
          },
          "type": "line",
          "x0": 10,
          "x1": 10,
          "xref": "x",
          "y0": 0,
          "y1": 1,
          "yref": "y domain"
         },
         {
          "layer": "below",
          "line": {
           "color": "#666666",
           "width": 1
          },
          "type": "line",
          "x0": 10,
          "x1": 10,
          "xref": "x2",
          "y0": 0,
          "y1": 1,
          "yref": "y2 domain"
         },
         {
          "layer": "below",
          "line": {
           "color": "#666666",
           "width": 1
          },
          "type": "line",
          "x0": 10,
          "x1": 10,
          "xref": "x3",
          "y0": 0,
          "y1": 1,
          "yref": "y3 domain"
         },
         {
          "layer": "below",
          "line": {
           "color": "#666666",
           "width": 1
          },
          "type": "line",
          "x0": 10,
          "x1": 10,
          "xref": "x",
          "y0": 0,
          "y1": 1,
          "yref": "y domain"
         },
         {
          "layer": "below",
          "line": {
           "color": "#666666",
           "width": 1
          },
          "type": "line",
          "x0": 10,
          "x1": 10,
          "xref": "x2",
          "y0": 0,
          "y1": 1,
          "yref": "y2 domain"
         },
         {
          "layer": "below",
          "line": {
           "color": "#666666",
           "width": 1
          },
          "type": "line",
          "x0": 10,
          "x1": 10,
          "xref": "x3",
          "y0": 0,
          "y1": 1,
          "yref": "y3 domain"
         },
         {
          "layer": "below",
          "line": {
           "color": "#666666",
           "width": 1
          },
          "type": "line",
          "x0": 10,
          "x1": 10,
          "xref": "x4",
          "y0": 0,
          "y1": 1,
          "yref": "y4 domain"
         },
         {
          "layer": "below",
          "line": {
           "color": "#666666",
           "width": 1
          },
          "type": "line",
          "x0": 10,
          "x1": 10,
          "xref": "x",
          "y0": 0,
          "y1": 1,
          "yref": "y domain"
         },
         {
          "layer": "below",
          "line": {
           "color": "#666666",
           "width": 1
          },
          "type": "line",
          "x0": 10,
          "x1": 10,
          "xref": "x2",
          "y0": 0,
          "y1": 1,
          "yref": "y2 domain"
         },
         {
          "layer": "below",
          "line": {
           "color": "#666666",
           "width": 1
          },
          "type": "line",
          "x0": 10,
          "x1": 10,
          "xref": "x3",
          "y0": 0,
          "y1": 1,
          "yref": "y3 domain"
         },
         {
          "layer": "below",
          "line": {
           "color": "#666666",
           "width": 1
          },
          "type": "line",
          "x0": 10,
          "x1": 10,
          "xref": "x4",
          "y0": 0,
          "y1": 1,
          "yref": "y4 domain"
         },
         {
          "layer": "below",
          "line": {
           "color": "#666666",
           "width": 1
          },
          "type": "line",
          "x0": 10,
          "x1": 10,
          "xref": "x5",
          "y0": 0,
          "y1": 1,
          "yref": "y5 domain"
         },
         {
          "layer": "below",
          "line": {
           "color": "#666666",
           "width": 1
          },
          "type": "line",
          "x0": 10,
          "x1": 10,
          "xref": "x",
          "y0": 0,
          "y1": 1,
          "yref": "y domain"
         },
         {
          "layer": "below",
          "line": {
           "color": "#666666",
           "width": 1
          },
          "type": "line",
          "x0": 10,
          "x1": 10,
          "xref": "x2",
          "y0": 0,
          "y1": 1,
          "yref": "y2 domain"
         },
         {
          "layer": "below",
          "line": {
           "color": "#666666",
           "width": 1
          },
          "type": "line",
          "x0": 10,
          "x1": 10,
          "xref": "x3",
          "y0": 0,
          "y1": 1,
          "yref": "y3 domain"
         },
         {
          "layer": "below",
          "line": {
           "color": "#666666",
           "width": 1
          },
          "type": "line",
          "x0": 10,
          "x1": 10,
          "xref": "x4",
          "y0": 0,
          "y1": 1,
          "yref": "y4 domain"
         },
         {
          "layer": "below",
          "line": {
           "color": "#666666",
           "width": 1
          },
          "type": "line",
          "x0": 10,
          "x1": 10,
          "xref": "x5",
          "y0": 0,
          "y1": 1,
          "yref": "y5 domain"
         },
         {
          "layer": "below",
          "line": {
           "color": "#666666",
           "width": 1
          },
          "type": "line",
          "x0": 10,
          "x1": 10,
          "xref": "x6",
          "y0": 0,
          "y1": 1,
          "yref": "y6 domain"
         },
         {
          "layer": "below",
          "line": {
           "color": "#666666",
           "width": 1
          },
          "type": "line",
          "x0": 10,
          "x1": 10,
          "xref": "x",
          "y0": 0,
          "y1": 1,
          "yref": "y domain"
         },
         {
          "layer": "below",
          "line": {
           "color": "#666666",
           "width": 1
          },
          "type": "line",
          "x0": 10,
          "x1": 10,
          "xref": "x2",
          "y0": 0,
          "y1": 1,
          "yref": "y2 domain"
         },
         {
          "layer": "below",
          "line": {
           "color": "#666666",
           "width": 1
          },
          "type": "line",
          "x0": 10,
          "x1": 10,
          "xref": "x3",
          "y0": 0,
          "y1": 1,
          "yref": "y3 domain"
         },
         {
          "layer": "below",
          "line": {
           "color": "#666666",
           "width": 1
          },
          "type": "line",
          "x0": 10,
          "x1": 10,
          "xref": "x4",
          "y0": 0,
          "y1": 1,
          "yref": "y4 domain"
         },
         {
          "layer": "below",
          "line": {
           "color": "#666666",
           "width": 1
          },
          "type": "line",
          "x0": 10,
          "x1": 10,
          "xref": "x5",
          "y0": 0,
          "y1": 1,
          "yref": "y5 domain"
         },
         {
          "layer": "below",
          "line": {
           "color": "#666666",
           "width": 1
          },
          "type": "line",
          "x0": 10,
          "x1": 10,
          "xref": "x6",
          "y0": 0,
          "y1": 1,
          "yref": "y6 domain"
         },
         {
          "layer": "below",
          "line": {
           "color": "#666666",
           "width": 1
          },
          "type": "line",
          "x0": 10,
          "x1": 10,
          "xref": "x7",
          "y0": 0,
          "y1": 1,
          "yref": "y7 domain"
         },
         {
          "layer": "below",
          "line": {
           "color": "#666666",
           "width": 1
          },
          "type": "line",
          "x0": 10,
          "x1": 10,
          "xref": "x",
          "y0": 0,
          "y1": 1,
          "yref": "y domain"
         },
         {
          "layer": "below",
          "line": {
           "color": "#666666",
           "width": 1
          },
          "type": "line",
          "x0": 10,
          "x1": 10,
          "xref": "x2",
          "y0": 0,
          "y1": 1,
          "yref": "y2 domain"
         },
         {
          "layer": "below",
          "line": {
           "color": "#666666",
           "width": 1
          },
          "type": "line",
          "x0": 10,
          "x1": 10,
          "xref": "x3",
          "y0": 0,
          "y1": 1,
          "yref": "y3 domain"
         },
         {
          "layer": "below",
          "line": {
           "color": "#666666",
           "width": 1
          },
          "type": "line",
          "x0": 10,
          "x1": 10,
          "xref": "x4",
          "y0": 0,
          "y1": 1,
          "yref": "y4 domain"
         },
         {
          "layer": "below",
          "line": {
           "color": "#666666",
           "width": 1
          },
          "type": "line",
          "x0": 10,
          "x1": 10,
          "xref": "x5",
          "y0": 0,
          "y1": 1,
          "yref": "y5 domain"
         },
         {
          "layer": "below",
          "line": {
           "color": "#666666",
           "width": 1
          },
          "type": "line",
          "x0": 10,
          "x1": 10,
          "xref": "x6",
          "y0": 0,
          "y1": 1,
          "yref": "y6 domain"
         },
         {
          "layer": "below",
          "line": {
           "color": "#666666",
           "width": 1
          },
          "type": "line",
          "x0": 10,
          "x1": 10,
          "xref": "x7",
          "y0": 0,
          "y1": 1,
          "yref": "y7 domain"
         },
         {
          "layer": "below",
          "line": {
           "color": "#666666",
           "width": 1
          },
          "type": "line",
          "x0": 10,
          "x1": 10,
          "xref": "x8",
          "y0": 0,
          "y1": 1,
          "yref": "y8 domain"
         }
        ],
        "template": {
         "data": {
          "bar": [
           {
            "error_x": {
             "color": "#2a3f5f"
            },
            "error_y": {
             "color": "#2a3f5f"
            },
            "marker": {
             "line": {
              "color": "#E5ECF6",
              "width": 0.5
             },
             "pattern": {
              "fillmode": "overlay",
              "size": 10,
              "solidity": 0.2
             }
            },
            "type": "bar"
           }
          ],
          "barpolar": [
           {
            "marker": {
             "line": {
              "color": "#E5ECF6",
              "width": 0.5
             },
             "pattern": {
              "fillmode": "overlay",
              "size": 10,
              "solidity": 0.2
             }
            },
            "type": "barpolar"
           }
          ],
          "carpet": [
           {
            "aaxis": {
             "endlinecolor": "#2a3f5f",
             "gridcolor": "white",
             "linecolor": "white",
             "minorgridcolor": "white",
             "startlinecolor": "#2a3f5f"
            },
            "baxis": {
             "endlinecolor": "#2a3f5f",
             "gridcolor": "white",
             "linecolor": "white",
             "minorgridcolor": "white",
             "startlinecolor": "#2a3f5f"
            },
            "type": "carpet"
           }
          ],
          "choropleth": [
           {
            "colorbar": {
             "outlinewidth": 0,
             "ticks": ""
            },
            "type": "choropleth"
           }
          ],
          "contour": [
           {
            "colorbar": {
             "outlinewidth": 0,
             "ticks": ""
            },
            "colorscale": [
             [
              0,
              "#0d0887"
             ],
             [
              0.1111111111111111,
              "#46039f"
             ],
             [
              0.2222222222222222,
              "#7201a8"
             ],
             [
              0.3333333333333333,
              "#9c179e"
             ],
             [
              0.4444444444444444,
              "#bd3786"
             ],
             [
              0.5555555555555556,
              "#d8576b"
             ],
             [
              0.6666666666666666,
              "#ed7953"
             ],
             [
              0.7777777777777778,
              "#fb9f3a"
             ],
             [
              0.8888888888888888,
              "#fdca26"
             ],
             [
              1,
              "#f0f921"
             ]
            ],
            "type": "contour"
           }
          ],
          "contourcarpet": [
           {
            "colorbar": {
             "outlinewidth": 0,
             "ticks": ""
            },
            "type": "contourcarpet"
           }
          ],
          "heatmap": [
           {
            "colorbar": {
             "outlinewidth": 0,
             "ticks": ""
            },
            "colorscale": [
             [
              0,
              "#0d0887"
             ],
             [
              0.1111111111111111,
              "#46039f"
             ],
             [
              0.2222222222222222,
              "#7201a8"
             ],
             [
              0.3333333333333333,
              "#9c179e"
             ],
             [
              0.4444444444444444,
              "#bd3786"
             ],
             [
              0.5555555555555556,
              "#d8576b"
             ],
             [
              0.6666666666666666,
              "#ed7953"
             ],
             [
              0.7777777777777778,
              "#fb9f3a"
             ],
             [
              0.8888888888888888,
              "#fdca26"
             ],
             [
              1,
              "#f0f921"
             ]
            ],
            "type": "heatmap"
           }
          ],
          "heatmapgl": [
           {
            "colorbar": {
             "outlinewidth": 0,
             "ticks": ""
            },
            "colorscale": [
             [
              0,
              "#0d0887"
             ],
             [
              0.1111111111111111,
              "#46039f"
             ],
             [
              0.2222222222222222,
              "#7201a8"
             ],
             [
              0.3333333333333333,
              "#9c179e"
             ],
             [
              0.4444444444444444,
              "#bd3786"
             ],
             [
              0.5555555555555556,
              "#d8576b"
             ],
             [
              0.6666666666666666,
              "#ed7953"
             ],
             [
              0.7777777777777778,
              "#fb9f3a"
             ],
             [
              0.8888888888888888,
              "#fdca26"
             ],
             [
              1,
              "#f0f921"
             ]
            ],
            "type": "heatmapgl"
           }
          ],
          "histogram": [
           {
            "marker": {
             "pattern": {
              "fillmode": "overlay",
              "size": 10,
              "solidity": 0.2
             }
            },
            "type": "histogram"
           }
          ],
          "histogram2d": [
           {
            "colorbar": {
             "outlinewidth": 0,
             "ticks": ""
            },
            "colorscale": [
             [
              0,
              "#0d0887"
             ],
             [
              0.1111111111111111,
              "#46039f"
             ],
             [
              0.2222222222222222,
              "#7201a8"
             ],
             [
              0.3333333333333333,
              "#9c179e"
             ],
             [
              0.4444444444444444,
              "#bd3786"
             ],
             [
              0.5555555555555556,
              "#d8576b"
             ],
             [
              0.6666666666666666,
              "#ed7953"
             ],
             [
              0.7777777777777778,
              "#fb9f3a"
             ],
             [
              0.8888888888888888,
              "#fdca26"
             ],
             [
              1,
              "#f0f921"
             ]
            ],
            "type": "histogram2d"
           }
          ],
          "histogram2dcontour": [
           {
            "colorbar": {
             "outlinewidth": 0,
             "ticks": ""
            },
            "colorscale": [
             [
              0,
              "#0d0887"
             ],
             [
              0.1111111111111111,
              "#46039f"
             ],
             [
              0.2222222222222222,
              "#7201a8"
             ],
             [
              0.3333333333333333,
              "#9c179e"
             ],
             [
              0.4444444444444444,
              "#bd3786"
             ],
             [
              0.5555555555555556,
              "#d8576b"
             ],
             [
              0.6666666666666666,
              "#ed7953"
             ],
             [
              0.7777777777777778,
              "#fb9f3a"
             ],
             [
              0.8888888888888888,
              "#fdca26"
             ],
             [
              1,
              "#f0f921"
             ]
            ],
            "type": "histogram2dcontour"
           }
          ],
          "mesh3d": [
           {
            "colorbar": {
             "outlinewidth": 0,
             "ticks": ""
            },
            "type": "mesh3d"
           }
          ],
          "parcoords": [
           {
            "line": {
             "colorbar": {
              "outlinewidth": 0,
              "ticks": ""
             }
            },
            "type": "parcoords"
           }
          ],
          "pie": [
           {
            "automargin": true,
            "type": "pie"
           }
          ],
          "scatter": [
           {
            "fillpattern": {
             "fillmode": "overlay",
             "size": 10,
             "solidity": 0.2
            },
            "type": "scatter"
           }
          ],
          "scatter3d": [
           {
            "line": {
             "colorbar": {
              "outlinewidth": 0,
              "ticks": ""
             }
            },
            "marker": {
             "colorbar": {
              "outlinewidth": 0,
              "ticks": ""
             }
            },
            "type": "scatter3d"
           }
          ],
          "scattercarpet": [
           {
            "marker": {
             "colorbar": {
              "outlinewidth": 0,
              "ticks": ""
             }
            },
            "type": "scattercarpet"
           }
          ],
          "scattergeo": [
           {
            "marker": {
             "colorbar": {
              "outlinewidth": 0,
              "ticks": ""
             }
            },
            "type": "scattergeo"
           }
          ],
          "scattergl": [
           {
            "marker": {
             "colorbar": {
              "outlinewidth": 0,
              "ticks": ""
             }
            },
            "type": "scattergl"
           }
          ],
          "scattermapbox": [
           {
            "marker": {
             "colorbar": {
              "outlinewidth": 0,
              "ticks": ""
             }
            },
            "type": "scattermapbox"
           }
          ],
          "scatterpolar": [
           {
            "marker": {
             "colorbar": {
              "outlinewidth": 0,
              "ticks": ""
             }
            },
            "type": "scatterpolar"
           }
          ],
          "scatterpolargl": [
           {
            "marker": {
             "colorbar": {
              "outlinewidth": 0,
              "ticks": ""
             }
            },
            "type": "scatterpolargl"
           }
          ],
          "scatterternary": [
           {
            "marker": {
             "colorbar": {
              "outlinewidth": 0,
              "ticks": ""
             }
            },
            "type": "scatterternary"
           }
          ],
          "surface": [
           {
            "colorbar": {
             "outlinewidth": 0,
             "ticks": ""
            },
            "colorscale": [
             [
              0,
              "#0d0887"
             ],
             [
              0.1111111111111111,
              "#46039f"
             ],
             [
              0.2222222222222222,
              "#7201a8"
             ],
             [
              0.3333333333333333,
              "#9c179e"
             ],
             [
              0.4444444444444444,
              "#bd3786"
             ],
             [
              0.5555555555555556,
              "#d8576b"
             ],
             [
              0.6666666666666666,
              "#ed7953"
             ],
             [
              0.7777777777777778,
              "#fb9f3a"
             ],
             [
              0.8888888888888888,
              "#fdca26"
             ],
             [
              1,
              "#f0f921"
             ]
            ],
            "type": "surface"
           }
          ],
          "table": [
           {
            "cells": {
             "fill": {
              "color": "#EBF0F8"
             },
             "line": {
              "color": "white"
             }
            },
            "header": {
             "fill": {
              "color": "#C8D4E3"
             },
             "line": {
              "color": "white"
             }
            },
            "type": "table"
           }
          ]
         },
         "layout": {
          "annotationdefaults": {
           "arrowcolor": "#2a3f5f",
           "arrowhead": 0,
           "arrowwidth": 1
          },
          "autotypenumbers": "strict",
          "coloraxis": {
           "colorbar": {
            "outlinewidth": 0,
            "ticks": ""
           }
          },
          "colorscale": {
           "diverging": [
            [
             0,
             "#8e0152"
            ],
            [
             0.1,
             "#c51b7d"
            ],
            [
             0.2,
             "#de77ae"
            ],
            [
             0.3,
             "#f1b6da"
            ],
            [
             0.4,
             "#fde0ef"
            ],
            [
             0.5,
             "#f7f7f7"
            ],
            [
             0.6,
             "#e6f5d0"
            ],
            [
             0.7,
             "#b8e186"
            ],
            [
             0.8,
             "#7fbc41"
            ],
            [
             0.9,
             "#4d9221"
            ],
            [
             1,
             "#276419"
            ]
           ],
           "sequential": [
            [
             0,
             "#0d0887"
            ],
            [
             0.1111111111111111,
             "#46039f"
            ],
            [
             0.2222222222222222,
             "#7201a8"
            ],
            [
             0.3333333333333333,
             "#9c179e"
            ],
            [
             0.4444444444444444,
             "#bd3786"
            ],
            [
             0.5555555555555556,
             "#d8576b"
            ],
            [
             0.6666666666666666,
             "#ed7953"
            ],
            [
             0.7777777777777778,
             "#fb9f3a"
            ],
            [
             0.8888888888888888,
             "#fdca26"
            ],
            [
             1,
             "#f0f921"
            ]
           ],
           "sequentialminus": [
            [
             0,
             "#0d0887"
            ],
            [
             0.1111111111111111,
             "#46039f"
            ],
            [
             0.2222222222222222,
             "#7201a8"
            ],
            [
             0.3333333333333333,
             "#9c179e"
            ],
            [
             0.4444444444444444,
             "#bd3786"
            ],
            [
             0.5555555555555556,
             "#d8576b"
            ],
            [
             0.6666666666666666,
             "#ed7953"
            ],
            [
             0.7777777777777778,
             "#fb9f3a"
            ],
            [
             0.8888888888888888,
             "#fdca26"
            ],
            [
             1,
             "#f0f921"
            ]
           ]
          },
          "colorway": [
           "#636efa",
           "#EF553B",
           "#00cc96",
           "#ab63fa",
           "#FFA15A",
           "#19d3f3",
           "#FF6692",
           "#B6E880",
           "#FF97FF",
           "#FECB52"
          ],
          "font": {
           "color": "#2a3f5f"
          },
          "geo": {
           "bgcolor": "white",
           "lakecolor": "white",
           "landcolor": "#E5ECF6",
           "showlakes": true,
           "showland": true,
           "subunitcolor": "white"
          },
          "hoverlabel": {
           "align": "left"
          },
          "hovermode": "closest",
          "mapbox": {
           "style": "light"
          },
          "paper_bgcolor": "white",
          "plot_bgcolor": "#E5ECF6",
          "polar": {
           "angularaxis": {
            "gridcolor": "white",
            "linecolor": "white",
            "ticks": ""
           },
           "bgcolor": "#E5ECF6",
           "radialaxis": {
            "gridcolor": "white",
            "linecolor": "white",
            "ticks": ""
           }
          },
          "scene": {
           "xaxis": {
            "backgroundcolor": "#E5ECF6",
            "gridcolor": "white",
            "gridwidth": 2,
            "linecolor": "white",
            "showbackground": true,
            "ticks": "",
            "zerolinecolor": "white"
           },
           "yaxis": {
            "backgroundcolor": "#E5ECF6",
            "gridcolor": "white",
            "gridwidth": 2,
            "linecolor": "white",
            "showbackground": true,
            "ticks": "",
            "zerolinecolor": "white"
           },
           "zaxis": {
            "backgroundcolor": "#E5ECF6",
            "gridcolor": "white",
            "gridwidth": 2,
            "linecolor": "white",
            "showbackground": true,
            "ticks": "",
            "zerolinecolor": "white"
           }
          },
          "shapedefaults": {
           "line": {
            "color": "#2a3f5f"
           }
          },
          "ternary": {
           "aaxis": {
            "gridcolor": "white",
            "linecolor": "white",
            "ticks": ""
           },
           "baxis": {
            "gridcolor": "white",
            "linecolor": "white",
            "ticks": ""
           },
           "bgcolor": "#E5ECF6",
           "caxis": {
            "gridcolor": "white",
            "linecolor": "white",
            "ticks": ""
           }
          },
          "title": {
           "x": 0.05
          },
          "xaxis": {
           "automargin": true,
           "gridcolor": "white",
           "linecolor": "white",
           "ticks": "",
           "title": {
            "standoff": 15
           },
           "zerolinecolor": "white",
           "zerolinewidth": 2
          },
          "yaxis": {
           "automargin": true,
           "gridcolor": "white",
           "linecolor": "white",
           "ticks": "",
           "title": {
            "standoff": 15
           },
           "zerolinecolor": "white",
           "zerolinewidth": 2
          }
         }
        },
        "title": {
         "text": "Univariate drift metrics"
        },
        "xaxis": {
         "anchor": "y",
         "domain": [
          0,
          1
         ],
         "linecolor": "#3b0280",
         "matches": "x",
         "mirror": true,
         "showgrid": false,
         "title": {
          "text": "Chunk"
         },
         "zeroline": false
        },
        "xaxis2": {
         "anchor": "y2",
         "domain": [
          0,
          1
         ],
         "linecolor": "#3b0280",
         "matches": "x",
         "mirror": true,
         "showgrid": false,
         "title": {
          "text": "Chunk"
         },
         "zeroline": false
        },
        "xaxis3": {
         "anchor": "y3",
         "domain": [
          0,
          1
         ],
         "linecolor": "#3b0280",
         "matches": "x",
         "mirror": true,
         "showgrid": false,
         "title": {
          "text": "Chunk"
         },
         "zeroline": false
        },
        "xaxis4": {
         "anchor": "y4",
         "domain": [
          0,
          1
         ],
         "linecolor": "#3b0280",
         "matches": "x",
         "mirror": true,
         "showgrid": false,
         "title": {
          "text": "Chunk"
         },
         "zeroline": false
        },
        "xaxis5": {
         "anchor": "y5",
         "domain": [
          0,
          1
         ],
         "linecolor": "#3b0280",
         "matches": "x",
         "mirror": true,
         "showgrid": false,
         "title": {
          "text": "Chunk"
         },
         "zeroline": false
        },
        "xaxis6": {
         "anchor": "y6",
         "domain": [
          0,
          1
         ],
         "linecolor": "#3b0280",
         "matches": "x",
         "mirror": true,
         "showgrid": false,
         "title": {
          "text": "Chunk"
         },
         "zeroline": false
        },
        "xaxis7": {
         "anchor": "y7",
         "domain": [
          0,
          1
         ],
         "linecolor": "#3b0280",
         "matches": "x",
         "mirror": true,
         "showgrid": false,
         "title": {
          "text": "Chunk"
         },
         "zeroline": false
        },
        "xaxis8": {
         "anchor": "y8",
         "domain": [
          0,
          1
         ],
         "linecolor": "#3b0280",
         "matches": "x",
         "mirror": true,
         "showgrid": false,
         "title": {
          "text": "Chunk"
         },
         "zeroline": false
        },
        "yaxis": {
         "anchor": "x",
         "domain": [
          0.9296875,
          1
         ],
         "linecolor": "#3b0280",
         "mirror": true,
         "showgrid": false,
         "title": {
          "text": "Jensen-Shannon distance"
         },
         "zeroline": false
        },
        "yaxis2": {
         "anchor": "x2",
         "domain": [
          0.796875,
          0.8671875
         ],
         "linecolor": "#3b0280",
         "mirror": true,
         "showgrid": false,
         "title": {
          "text": "Kolmogorov-Smirnov statistic"
         },
         "zeroline": false
        },
        "yaxis3": {
         "anchor": "x3",
         "domain": [
          0.6640625,
          0.734375
         ],
         "linecolor": "#3b0280",
         "mirror": true,
         "showgrid": false,
         "title": {
          "text": "Jensen-Shannon distance"
         },
         "zeroline": false
        },
        "yaxis4": {
         "anchor": "x4",
         "domain": [
          0.53125,
          0.6015625
         ],
         "linecolor": "#3b0280",
         "mirror": true,
         "showgrid": false,
         "title": {
          "text": "Kolmogorov-Smirnov statistic"
         },
         "zeroline": false
        },
        "yaxis5": {
         "anchor": "x5",
         "domain": [
          0.3984375,
          0.46875
         ],
         "linecolor": "#3b0280",
         "mirror": true,
         "showgrid": false,
         "title": {
          "text": "Jensen-Shannon distance"
         },
         "zeroline": false
        },
        "yaxis6": {
         "anchor": "x6",
         "domain": [
          0.265625,
          0.3359375
         ],
         "linecolor": "#3b0280",
         "mirror": true,
         "showgrid": false,
         "title": {
          "text": "Kolmogorov-Smirnov statistic"
         },
         "zeroline": false
        },
        "yaxis7": {
         "anchor": "x7",
         "domain": [
          0.1328125,
          0.203125
         ],
         "linecolor": "#3b0280",
         "mirror": true,
         "showgrid": false,
         "title": {
          "text": "Chi2 statistic"
         },
         "zeroline": false
        },
        "yaxis8": {
         "anchor": "x8",
         "domain": [
          0,
          0.0703125
         ],
         "linecolor": "#3b0280",
         "mirror": true,
         "showgrid": false,
         "title": {
          "text": "Jensen-Shannon distance"
         },
         "zeroline": false
        }
       }
      }
     },
     "metadata": {},
     "output_type": "display_data"
    }
   ],
   "source": [
    "# display results\n",
    "results = calc.calculate(analysis_df)\n",
    "display(results.to_df())\n",
    "\n",
    "results.plot(kind='drift')\n",
    "\n"
   ]
  },
  {
   "cell_type": "code",
   "execution_count": null,
   "metadata": {},
   "outputs": [],
   "source": []
  },
  {
   "cell_type": "code",
   "execution_count": null,
   "metadata": {},
   "outputs": [],
   "source": [
    "# Create a DataDrift object\n",
    "dd = nml.DataDrift(reference_df, analysis_df)\n",
    "\n",
    "# Run the DataDrift analysis\n",
    "dd.run()\n",
    "\n",
    "# Display the DataDrift results\n",
    "dd.display()\n",
    "\n",
    "# Save the DataDrift results\n",
    "dd.save(\"../data/05_drift/drift_results.csv\")\n",
    "\n",
    "# Plot the DataDrift results\n",
    "dd.plot()\n",
    "\n",
    "# Plot the DataDrift results\n",
    "dd.plot(plot_type=\"bar\")\n"
   ]
  }
 ],
 "metadata": {
  "kernelspec": {
   "display_name": "MLOPSKEDRO309",
   "language": "python",
   "name": "python3"
  },
  "language_info": {
   "codemirror_mode": {
    "name": "ipython",
    "version": 3
   },
   "file_extension": ".py",
   "mimetype": "text/x-python",
   "name": "python",
   "nbconvert_exporter": "python",
   "pygments_lexer": "ipython3",
   "version": "3.9.16"
  },
  "orig_nbformat": 4
 },
 "nbformat": 4,
 "nbformat_minor": 2
}
